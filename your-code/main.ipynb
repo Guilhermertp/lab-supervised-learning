{
 "cells": [
  {
   "cell_type": "markdown",
   "metadata": {},
   "source": [
    "# Before your start:\n",
    "- Read the README.md file\n",
    "- Comment as much as you can and use the resources in the README.md file\n",
    "- Happy learning!"
   ]
  },
  {
   "cell_type": "code",
   "execution_count": 1,
   "metadata": {},
   "outputs": [],
   "source": [
    "# Import your libraries:\n",
    "\n",
    "%matplotlib inline\n",
    "\n",
    "import numpy as np\n",
    "import pandas as pd"
   ]
  },
  {
   "cell_type": "markdown",
   "metadata": {},
   "source": [
    "In this lab, we will explore a dataset that describes websites with different features and labels them either benign or malicious . We will use supervised learning algorithms to figure out what feature patterns malicious websites are likely to have and use our model to predict malicious websites.\n",
    "\n",
    "# Challenge 1 - Explore The Dataset\n",
    "\n",
    "Let's start by exploring the dataset. First load the data file:\n",
    "\n",
    "Dataset source: https://www.kaggle.com/xwolf12/malicious-and-benign-websites"
   ]
  },
  {
   "cell_type": "code",
   "execution_count": 2,
   "metadata": {},
   "outputs": [],
   "source": [
    "websites = pd.read_csv('../data/website.csv')"
   ]
  },
  {
   "cell_type": "markdown",
   "metadata": {},
   "source": [
    "#### Explore the data from an bird's-eye view.\n",
    "\n",
    "You should already been very familiar with the procedures now so we won't provide the instructions step by step. Reflect on what you did in the previous labs and explore the dataset.\n",
    "\n",
    "Things you'll be looking for:\n",
    "\n",
    "* What the dataset looks like?\n",
    "* What are the data types?\n",
    "* Which columns contain the features of the websites?\n",
    "* Which column contains the feature we will predict? What is the code standing for benign vs malicious websites?\n",
    "* Do we need to transform any of the columns from categorical to ordinal values? If so what are these columns?\n",
    "\n",
    "Feel free to add additional cells for your explorations. Make sure to comment what you find out."
   ]
  },
  {
   "cell_type": "code",
   "execution_count": 3,
   "metadata": {},
   "outputs": [
    {
     "data": {
      "text/html": [
       "<div>\n",
       "<style scoped>\n",
       "    .dataframe tbody tr th:only-of-type {\n",
       "        vertical-align: middle;\n",
       "    }\n",
       "\n",
       "    .dataframe tbody tr th {\n",
       "        vertical-align: top;\n",
       "    }\n",
       "\n",
       "    .dataframe thead th {\n",
       "        text-align: right;\n",
       "    }\n",
       "</style>\n",
       "<table border=\"1\" class=\"dataframe\">\n",
       "  <thead>\n",
       "    <tr style=\"text-align: right;\">\n",
       "      <th></th>\n",
       "      <th>URL</th>\n",
       "      <th>URL_LENGTH</th>\n",
       "      <th>NUMBER_SPECIAL_CHARACTERS</th>\n",
       "      <th>CHARSET</th>\n",
       "      <th>SERVER</th>\n",
       "      <th>CONTENT_LENGTH</th>\n",
       "      <th>WHOIS_COUNTRY</th>\n",
       "      <th>WHOIS_STATEPRO</th>\n",
       "      <th>WHOIS_REGDATE</th>\n",
       "      <th>WHOIS_UPDATED_DATE</th>\n",
       "      <th>...</th>\n",
       "      <th>DIST_REMOTE_TCP_PORT</th>\n",
       "      <th>REMOTE_IPS</th>\n",
       "      <th>APP_BYTES</th>\n",
       "      <th>SOURCE_APP_PACKETS</th>\n",
       "      <th>REMOTE_APP_PACKETS</th>\n",
       "      <th>SOURCE_APP_BYTES</th>\n",
       "      <th>REMOTE_APP_BYTES</th>\n",
       "      <th>APP_PACKETS</th>\n",
       "      <th>DNS_QUERY_TIMES</th>\n",
       "      <th>Type</th>\n",
       "    </tr>\n",
       "  </thead>\n",
       "  <tbody>\n",
       "    <tr>\n",
       "      <th>0</th>\n",
       "      <td>M0_109</td>\n",
       "      <td>16</td>\n",
       "      <td>7</td>\n",
       "      <td>iso-8859-1</td>\n",
       "      <td>nginx</td>\n",
       "      <td>263.0</td>\n",
       "      <td>None</td>\n",
       "      <td>None</td>\n",
       "      <td>10/10/2015 18:21</td>\n",
       "      <td>None</td>\n",
       "      <td>...</td>\n",
       "      <td>0</td>\n",
       "      <td>2</td>\n",
       "      <td>700</td>\n",
       "      <td>9</td>\n",
       "      <td>10</td>\n",
       "      <td>1153</td>\n",
       "      <td>832</td>\n",
       "      <td>9</td>\n",
       "      <td>2.0</td>\n",
       "      <td>1</td>\n",
       "    </tr>\n",
       "    <tr>\n",
       "      <th>1</th>\n",
       "      <td>B0_2314</td>\n",
       "      <td>16</td>\n",
       "      <td>6</td>\n",
       "      <td>UTF-8</td>\n",
       "      <td>Apache/2.4.10</td>\n",
       "      <td>15087.0</td>\n",
       "      <td>None</td>\n",
       "      <td>None</td>\n",
       "      <td>None</td>\n",
       "      <td>None</td>\n",
       "      <td>...</td>\n",
       "      <td>7</td>\n",
       "      <td>4</td>\n",
       "      <td>1230</td>\n",
       "      <td>17</td>\n",
       "      <td>19</td>\n",
       "      <td>1265</td>\n",
       "      <td>1230</td>\n",
       "      <td>17</td>\n",
       "      <td>0.0</td>\n",
       "      <td>0</td>\n",
       "    </tr>\n",
       "    <tr>\n",
       "      <th>2</th>\n",
       "      <td>B0_911</td>\n",
       "      <td>16</td>\n",
       "      <td>6</td>\n",
       "      <td>us-ascii</td>\n",
       "      <td>Microsoft-HTTPAPI/2.0</td>\n",
       "      <td>324.0</td>\n",
       "      <td>None</td>\n",
       "      <td>None</td>\n",
       "      <td>None</td>\n",
       "      <td>None</td>\n",
       "      <td>...</td>\n",
       "      <td>0</td>\n",
       "      <td>0</td>\n",
       "      <td>0</td>\n",
       "      <td>0</td>\n",
       "      <td>0</td>\n",
       "      <td>0</td>\n",
       "      <td>0</td>\n",
       "      <td>0</td>\n",
       "      <td>0.0</td>\n",
       "      <td>0</td>\n",
       "    </tr>\n",
       "    <tr>\n",
       "      <th>3</th>\n",
       "      <td>B0_113</td>\n",
       "      <td>17</td>\n",
       "      <td>6</td>\n",
       "      <td>ISO-8859-1</td>\n",
       "      <td>nginx</td>\n",
       "      <td>162.0</td>\n",
       "      <td>US</td>\n",
       "      <td>AK</td>\n",
       "      <td>7/10/1997 4:00</td>\n",
       "      <td>12/09/2013 0:45</td>\n",
       "      <td>...</td>\n",
       "      <td>22</td>\n",
       "      <td>3</td>\n",
       "      <td>3812</td>\n",
       "      <td>39</td>\n",
       "      <td>37</td>\n",
       "      <td>18784</td>\n",
       "      <td>4380</td>\n",
       "      <td>39</td>\n",
       "      <td>8.0</td>\n",
       "      <td>0</td>\n",
       "    </tr>\n",
       "    <tr>\n",
       "      <th>4</th>\n",
       "      <td>B0_403</td>\n",
       "      <td>17</td>\n",
       "      <td>6</td>\n",
       "      <td>UTF-8</td>\n",
       "      <td>None</td>\n",
       "      <td>124140.0</td>\n",
       "      <td>US</td>\n",
       "      <td>TX</td>\n",
       "      <td>12/05/1996 0:00</td>\n",
       "      <td>11/04/2017 0:00</td>\n",
       "      <td>...</td>\n",
       "      <td>2</td>\n",
       "      <td>5</td>\n",
       "      <td>4278</td>\n",
       "      <td>61</td>\n",
       "      <td>62</td>\n",
       "      <td>129889</td>\n",
       "      <td>4586</td>\n",
       "      <td>61</td>\n",
       "      <td>4.0</td>\n",
       "      <td>0</td>\n",
       "    </tr>\n",
       "  </tbody>\n",
       "</table>\n",
       "<p>5 rows × 21 columns</p>\n",
       "</div>"
      ],
      "text/plain": [
       "       URL  URL_LENGTH  NUMBER_SPECIAL_CHARACTERS     CHARSET  \\\n",
       "0   M0_109          16                          7  iso-8859-1   \n",
       "1  B0_2314          16                          6       UTF-8   \n",
       "2   B0_911          16                          6    us-ascii   \n",
       "3   B0_113          17                          6  ISO-8859-1   \n",
       "4   B0_403          17                          6       UTF-8   \n",
       "\n",
       "                  SERVER  CONTENT_LENGTH WHOIS_COUNTRY WHOIS_STATEPRO  \\\n",
       "0                  nginx           263.0          None           None   \n",
       "1          Apache/2.4.10         15087.0          None           None   \n",
       "2  Microsoft-HTTPAPI/2.0           324.0          None           None   \n",
       "3                  nginx           162.0            US             AK   \n",
       "4                   None        124140.0            US             TX   \n",
       "\n",
       "      WHOIS_REGDATE WHOIS_UPDATED_DATE  ...  DIST_REMOTE_TCP_PORT  REMOTE_IPS  \\\n",
       "0  10/10/2015 18:21               None  ...                     0           2   \n",
       "1              None               None  ...                     7           4   \n",
       "2              None               None  ...                     0           0   \n",
       "3    7/10/1997 4:00    12/09/2013 0:45  ...                    22           3   \n",
       "4   12/05/1996 0:00    11/04/2017 0:00  ...                     2           5   \n",
       "\n",
       "   APP_BYTES  SOURCE_APP_PACKETS  REMOTE_APP_PACKETS  SOURCE_APP_BYTES  \\\n",
       "0        700                   9                  10              1153   \n",
       "1       1230                  17                  19              1265   \n",
       "2          0                   0                   0                 0   \n",
       "3       3812                  39                  37             18784   \n",
       "4       4278                  61                  62            129889   \n",
       "\n",
       "   REMOTE_APP_BYTES  APP_PACKETS  DNS_QUERY_TIMES  Type  \n",
       "0               832            9              2.0     1  \n",
       "1              1230           17              0.0     0  \n",
       "2                 0            0              0.0     0  \n",
       "3              4380           39              8.0     0  \n",
       "4              4586           61              4.0     0  \n",
       "\n",
       "[5 rows x 21 columns]"
      ]
     },
     "execution_count": 3,
     "metadata": {},
     "output_type": "execute_result"
    }
   ],
   "source": [
    "# Your code here\n",
    "websites.head()"
   ]
  },
  {
   "cell_type": "markdown",
   "metadata": {},
   "source": [
    "Understanding the characteristics:\n",
    "* URL: it is the anonymous identification of the URL analyzed in the study\n",
    "* URL_LENGTH: it is the number of characters in the URL\n",
    "* NUMBER_SPECIAL_CHARACTERS: it is number of special characters identified in the URL, such as, “/”, “%”, “#”, “&”, “. “, “=”\n",
    "* CHARSET: it is a categorical value and its meaning is the character encoding standard (also called character set).\n",
    "* SERVER: it is a categorical value and its meaning is the operative system of the server got from the packet response.\n",
    "* CONTENT_LENGTH: it represents the content size of the HTTP header.\n",
    "* WHOIS_COUNTRY: it is a categorical variable, its values are the countries we got from the server response (specifically, our script used the API of Whois).\n",
    "* WHOIS_STATEPRO: it is a categorical variable, its values are the states we got from the server response (specifically, our script used the API of Whois).\n",
    "* WHOIS_REGDATE: Whois provides the server registration date, so, this variable has date values with format DD/MM/YYYY HH:MM\n",
    "* WHOIS_UPDATED_DATE: Through the Whois we got the last update date from the server analyzed\n",
    "* TCP_CONVERSATION_EXCHANGE: This variable is the number of TCP packets exchanged between the server and our honeypot client\n",
    "* DIST_REMOTE_TCP_PORT: it is the number of the ports detected and different to TCP\n",
    "* REMOTE_IPS: this variable has the total number of IPs connected to the honeypot\n",
    "* APP_BYTES: this is the number of bytes transferred\n",
    "* SOURCE_APP_PACKETS: packets sent from the honeypot to the server\n",
    "* REMOTE_APP_PACKETS: packets received from the server\n",
    "* APP_PACKETS: this is the total number of IP packets generated during the communication between the honeypot and the server\n",
    "* DNS_QUERY_TIMES: this is the number of DNS packets generated during the communication between the honeypot and the server\n",
    "* TYPE: this is a categorical variable, its values represent the type of web page analyzed, specifically, 1 is for malicious websites and 0 is for benign websites\n",
    "\n",
    "\n",
    "source: https://medium.com/analytics-vidhya/analysis-of-malicious-websites-by-its-characteristics-e202a20d9e38"
   ]
  },
  {
   "cell_type": "code",
   "execution_count": 4,
   "metadata": {},
   "outputs": [
    {
     "data": {
      "text/plain": [
       "URL                           object\n",
       "URL_LENGTH                     int64\n",
       "NUMBER_SPECIAL_CHARACTERS      int64\n",
       "CHARSET                       object\n",
       "SERVER                        object\n",
       "CONTENT_LENGTH               float64\n",
       "WHOIS_COUNTRY                 object\n",
       "WHOIS_STATEPRO                object\n",
       "WHOIS_REGDATE                 object\n",
       "WHOIS_UPDATED_DATE            object\n",
       "TCP_CONVERSATION_EXCHANGE      int64\n",
       "DIST_REMOTE_TCP_PORT           int64\n",
       "REMOTE_IPS                     int64\n",
       "APP_BYTES                      int64\n",
       "SOURCE_APP_PACKETS             int64\n",
       "REMOTE_APP_PACKETS             int64\n",
       "SOURCE_APP_BYTES               int64\n",
       "REMOTE_APP_BYTES               int64\n",
       "APP_PACKETS                    int64\n",
       "DNS_QUERY_TIMES              float64\n",
       "Type                           int64\n",
       "dtype: object"
      ]
     },
     "execution_count": 4,
     "metadata": {},
     "output_type": "execute_result"
    }
   ],
   "source": [
    "#check the data types of each feature\n",
    "websites.dtypes"
   ]
  },
  {
   "cell_type": "code",
   "execution_count": 5,
   "metadata": {},
   "outputs": [
    {
     "data": {
      "text/plain": [
       "Index(['URL', 'URL_LENGTH', 'NUMBER_SPECIAL_CHARACTERS', 'CHARSET', 'SERVER',\n",
       "       'CONTENT_LENGTH', 'WHOIS_COUNTRY', 'WHOIS_STATEPRO', 'WHOIS_REGDATE',\n",
       "       'WHOIS_UPDATED_DATE', 'TCP_CONVERSATION_EXCHANGE',\n",
       "       'DIST_REMOTE_TCP_PORT', 'REMOTE_IPS', 'APP_BYTES', 'SOURCE_APP_PACKETS',\n",
       "       'REMOTE_APP_PACKETS', 'SOURCE_APP_BYTES', 'REMOTE_APP_BYTES',\n",
       "       'APP_PACKETS', 'DNS_QUERY_TIMES', 'Type'],\n",
       "      dtype='object')"
      ]
     },
     "execution_count": 5,
     "metadata": {},
     "output_type": "execute_result"
    }
   ],
   "source": [
    "#shows the name of the columns in the dataframe\n",
    "websites.columns"
   ]
  },
  {
   "cell_type": "markdown",
   "metadata": {},
   "source": [
    "**Which columns contain the features of the websites?**\n",
    "\n",
    "**The columns are:**\n",
    "\n",
    "* URL \n",
    "* URL_LENGTH \n",
    "* NUMBER_SPECIAL_CHARACTERS \n",
    "* SERVER\n",
    "* CONTENT_LENGTH\n",
    "* WHOIS_COUNTRY\n",
    "* WHOIS_STATEPRO\n",
    "* WHOIS_REGDATE\n",
    "* WHOIS_UPDATED_DATE\n",
    "* TCP_CONVERSATION_EXCHANGE\n",
    "* DIST_REMOTE_TCP_PORT \n",
    "* REMOTE_IPS \n",
    "* APP_BYTES\n",
    "* SOURCE_APP_PACKETS\n",
    "* REMOTE_APP_PACKETS \n",
    "* SOURCE_APP_BYTES \n",
    "* REMOTE_APP_BYTES\n",
    "* APP_PACKETS \n",
    "* DNS_QUERY_TIMES"
   ]
  },
  {
   "cell_type": "markdown",
   "metadata": {},
   "source": [
    "\n",
    "**Which column contains the feature we will predict?  What is the code standing for benign vs malicious websites?**\n",
    "<p>The column type is a categorical variable, its values represent the type of web page analyzed, specifically, 1 is for malicious websites and 0 is for benign websites"
   ]
  },
  {
   "cell_type": "markdown",
   "metadata": {},
   "source": [
    "**Do we need to transform any of the columns from categorical to ordinal values? If so what are these columns?**\n"
   ]
  },
  {
   "cell_type": "code",
   "execution_count": 6,
   "metadata": {},
   "outputs": [],
   "source": [
    "#the columns that are categorical are of the type object\n",
    "#shows only the name of the columns of the type object\n",
    "categ_col = (websites.select_dtypes(include=['object'])).columns.tolist()"
   ]
  },
  {
   "cell_type": "code",
   "execution_count": 7,
   "metadata": {},
   "outputs": [],
   "source": [
    "#function that returns unique values of a column in a dtaframe\n",
    "def unique_col_val(x):\n",
    "    return websites[x].unique()"
   ]
  },
  {
   "cell_type": "code",
   "execution_count": 8,
   "metadata": {},
   "outputs": [],
   "source": [
    "list_unique_col_val =[]\n",
    "\n",
    "#i'm appending the unique values to an empty list to understand how they look\n",
    "for i in categ_col:\n",
    "    list_unique_col_val.append(unique_col_val(i))\n",
    "    \n",
    "    "
   ]
  },
  {
   "cell_type": "code",
   "execution_count": 9,
   "metadata": {},
   "outputs": [
    {
     "data": {
      "text/plain": [
       "[array(['M0_109', 'B0_2314', 'B0_911', ..., 'B0_162', 'B0_1152', 'B0_676'],\n",
       "       dtype=object),\n",
       " array(['iso-8859-1', 'UTF-8', 'us-ascii', 'ISO-8859-1', 'utf-8', 'None',\n",
       "        'windows-1251', 'ISO-8859', 'windows-1252'], dtype=object),\n",
       " array(['nginx', 'Apache/2.4.10', 'Microsoft-HTTPAPI/2.0', 'None',\n",
       "        'Apache/2', 'nginx/1.10.1', 'Apache', 'Apache/2.2.15 (Red Hat)',\n",
       "        'Apache/2.4.23 (Unix) OpenSSL/1.0.1e-fips mod_bwlimited/1.4',\n",
       "        'openresty/1.11.2.1', 'Apache/2.2.22', 'Apache/2.4.7 (Ubuntu)',\n",
       "        'nginx/1.12.0',\n",
       "        'Apache/2.4.12 (Unix) OpenSSL/1.0.1e-fips mod_bwlimited/1.4',\n",
       "        'Oracle-iPlanet-Web-Server/7.0', 'cloudflare-nginx', 'nginx/1.6.2',\n",
       "        'openresty', 'Heptu web server', 'Pepyaka/1.11.3', 'nginx/1.8.0',\n",
       "        'nginx/1.10.1 + Phusion Passenger 5.0.30',\n",
       "        'Apache/2.2.29 (Amazon)', 'Microsoft-IIS/7.5', 'LiteSpeed',\n",
       "        'Apache/2.4.25 (cPanel) OpenSSL/1.0.1e-fips mod_bwlimited/1.4',\n",
       "        'tsa_c', 'Apache/2.2.0 (Fedora)', 'Apache/2.2.22 (Debian)',\n",
       "        'Apache/2.2.15 (CentOS)', 'Apache/2.4.25',\n",
       "        'Apache/2.4.25 (Amazon) PHP/7.0.14', 'GSE',\n",
       "        'Apache/2.4.23 (Unix) OpenSSL/0.9.8e-fips-rhel5 mod_bwlimited/1.4',\n",
       "        'Apache/2.4.25 (Amazon) OpenSSL/1.0.1k-fips',\n",
       "        'Apache/2.2.22 (Ubuntu)', 'Tengine',\n",
       "        'Apache/2.4.18 (Unix) OpenSSL/0.9.8e-fips-rhel5 mod_bwlimited/1.4',\n",
       "        'Apache/2.4.10 (Debian)', 'Apache/2.4.6 (CentOS) PHP/5.6.8',\n",
       "        'Sun-ONE-Web-Server/6.1',\n",
       "        'Apache/2.4.18 (Unix) OpenSSL/1.0.2e Communique/4.1.10',\n",
       "        'AmazonS3',\n",
       "        'Apache/1.3.37 (Unix) mod_perl/1.29 mod_ssl/2.8.28 OpenSSL/0.9.7e-p1',\n",
       "        'ATS', 'Apache/2.2.27 (CentOS)',\n",
       "        'Apache/2.2.29 (Unix) mod_ssl/2.2.29 OpenSSL/1.0.1e-fips DAV/2 mod_bwlimited/1.4',\n",
       "        'CherryPy/3.6.0', 'Server', 'KHL',\n",
       "        'Apache/2.4.6 (CentOS) OpenSSL/1.0.1e-fips mod_fcgid/2.3.9 PHP/5.4.16 mod_jk/1.2.40',\n",
       "        'Apache/2.2.3 (CentOS)', 'Apache/2.4',\n",
       "        'Apache/1.3.27 (Unix)  (Red-Hat/Linux) mod_perl/1.26 PHP/4.3.3 FrontPage/5.0.2 mod_ssl/2.8.12 OpenSSL/0.9.6b',\n",
       "        'mw2114.codfw.wmnet',\n",
       "        'Apache/2.2.31 (Unix) mod_ssl/2.2.31 OpenSSL/1.0.1e-fips mod_bwlimited/1.4 mod_perl/2.0.8 Perl/v5.10.1',\n",
       "        'Apache/1.3.34 (Unix) PHP/4.4.4', 'Apache/2.2.31 (Amazon)',\n",
       "        'Jetty(9.0.z-SNAPSHOT)', 'Apache/2.2.31 (CentOS)',\n",
       "        'Apache/2.4.12 (Ubuntu)', 'HTTPDaemon',\n",
       "        'Apache/2.2.29 (Unix) mod_ssl/2.2.29 OpenSSL/1.0.1e-fips mod_bwlimited/1.4',\n",
       "        'MediaFire', 'DOSarrest', 'mw2232.codfw.wmnet',\n",
       "        'Sucuri/Cloudproxy', 'Apache/2.4.23 (Unix)', 'nginx/0.7.65',\n",
       "        'mw2260.codfw.wmnet', 'Apache/2.2.32', 'mw2239.codfw.wmnet',\n",
       "        'DPS/1.1.8', 'Apache/2.0.52 (Red Hat)',\n",
       "        'Apache/2.2.25 (Unix) mod_ssl/2.2.25 OpenSSL/0.9.8e-fips-rhel5 mod_bwlimited/1.4',\n",
       "        'Apache/1.3.31 (Unix) PHP/4.3.9 mod_perl/1.29 rus/PL30.20',\n",
       "        'Apache/2.2.13 (Unix) mod_ssl/2.2.13 OpenSSL/0.9.8e-fips-rhel5 mod_auth_passthrough/2.1 mod_bwlimited/1.4 PHP/5.2.10',\n",
       "        'nginx/1.1.19', 'ATS/5.3.0', 'Apache/2.2.3 (Red Hat)',\n",
       "        'nginx/1.4.3',\n",
       "        'Apache/2.2.29 (Unix) mod_ssl/2.2.29 OpenSSL/1.0.1e-fips mod_bwlimited/1.4 PHP/5.4.35',\n",
       "        'Apache/2.2.14 (FreeBSD) mod_ssl/2.2.14 OpenSSL/0.9.8y DAV/2 PHP/5.2.12 with Suhosin-Patch',\n",
       "        'Apache/2.2.14 (Unix) mod_ssl/2.2.14 OpenSSL/0.9.8e-fips-rhel5',\n",
       "        'Apache/1.3.39 (Unix) PHP/5.2.5 mod_auth_passthrough/1.8 mod_bwlimited/1.4 mod_log_bytes/1.2 mod_gzip/1.3.26.1a FrontPage/5.0.2.2635 DAV/1.0.3 mod_ssl/2.8.30 OpenSSL/0.9.7a',\n",
       "        'SSWS', 'Microsoft-IIS/8.0', 'Apache/2.4.18 (Ubuntu)',\n",
       "        'Apache/2.4.6 (CentOS) OpenSSL/1.0.1e-fips PHP/5.4.16 mod_apreq2-20090110/2.8.0 mod_perl/2.0.10 Perl/v5.24.1',\n",
       "        'Apache/2.2.20 (Unix)', 'YouTubeFrontEnd', 'nginx/1.11.3',\n",
       "        'nginx/1.11.2', 'nginx/1.10.0 (Ubuntu)', 'nginx/1.8.1',\n",
       "        'nginx/1.11.10', 'Squeegit/1.2.5 (3_sir)',\n",
       "        'Virtuoso/07.20.3217 (Linux) i686-generic-linux-glibc212-64  VDB',\n",
       "        'Apache-Coyote/1.1', 'Yippee-Ki-Yay', 'mw2165.codfw.wmnet',\n",
       "        'mw2192.codfw.wmnet', 'Apache/2.2.23 (Amazon)',\n",
       "        'nginx/1.4.6 (Ubuntu)', 'nginx + Phusion Passenger',\n",
       "        'Proxy Pandeiro UOL', 'mw2231.codfw.wmnet', 'openresty/1.11.2.2',\n",
       "        'mw2109.codfw.wmnet', 'nginx/0.8.54', 'Apache/2.4.6',\n",
       "        'mw2225.codfw.wmnet', 'Apache/1.3.27 (Unix) PHP/4.4.1',\n",
       "        'mw2236.codfw.wmnet', 'mw2101.codfw.wmnet', 'Varnish',\n",
       "        'Resin/3.1.8', 'mw2164.codfw.wmnet', 'Microsoft-IIS/8.5',\n",
       "        'mw2242.codfw.wmnet',\n",
       "        'Apache/2.4.6 (CentOS) OpenSSL/1.0.1e-fips PHP/5.5.38',\n",
       "        'mw2175.codfw.wmnet', 'mw2107.codfw.wmnet', 'mw2190.codfw.wmnet',\n",
       "        'Apache/2.4.6 (CentOS)', 'nginx/1.13.0', 'barista/5.1.3',\n",
       "        'mw2103.codfw.wmnet', 'Apache/2.4.25 (Debian)', 'ECD (fll/0790)',\n",
       "        'Pagely Gateway/1.5.1', 'nginx/1.10.3',\n",
       "        'Apache/2.4.25 (FreeBSD) OpenSSL/1.0.1s-freebsd PHP/5.6.30',\n",
       "        'mw2097.codfw.wmnet', 'mw2233.codfw.wmnet', 'fbs',\n",
       "        'mw2199.codfw.wmnet', 'mw2255.codfw.wmnet', 'mw2228.codfw.wmnet',\n",
       "        'Apache/2.2.31 (Unix) mod_ssl/2.2.31 OpenSSL/1.0.1e-fips mod_bwlimited/1.4 mod_fcgid/2.3.9',\n",
       "        'gunicorn/19.7.1',\n",
       "        'Apache/2.2.31 (Unix) mod_ssl/2.2.31 OpenSSL/0.9.8e-fips-rhel5 mod_bwlimited/1.4',\n",
       "        'Apache/2.4.6 (CentOS) OpenSSL/1.0.1e-fips PHP/5.4.16',\n",
       "        'mw2241.codfw.wmnet',\n",
       "        'Apache/1.3.33 (Unix) mod_ssl/2.8.24 OpenSSL/0.9.7e-p1 PHP/4.4.8',\n",
       "        'lighttpd', 'mw2230.codfw.wmnet',\n",
       "        'Apache/2.4.6 (CentOS) OpenSSL/1.0.1e-fips', 'AkamaiGHost',\n",
       "        'mw2240.codfw.wmnet', 'nginx/1.10.2', 'PWS/8.2.0.7', 'nginx/1.2.1',\n",
       "        'nxfps',\n",
       "        'Apache/2.2.16 (Unix) mod_ssl/2.2.16 OpenSSL/0.9.8e-fips-rhel5 mod_auth_passthrough/2.1 mod_bwlimited/1.4',\n",
       "        'Play', 'mw2185.codfw.wmnet',\n",
       "        'Apache/2.4.10 (Unix) OpenSSL/1.0.1k',\n",
       "        'Apache/Not telling (Unix) AuthTDS/1.1',\n",
       "        'Apache/2.2.11 (Unix) PHP/5.2.6', 'Scratch Web Server',\n",
       "        'marrakesh 1.12.2', 'nginx/0.8.35', 'mw2182.codfw.wmnet',\n",
       "        'squid/3.3.8', 'nginx/1.10.0', 'Nginx (OpenBSD)',\n",
       "        'Zope/(2.13.16; python 2.6.8; linux2) ZServer/1.1',\n",
       "        'Apache/2.2.26 (Unix) mod_ssl/2.2.26 OpenSSL/0.9.8e-fips-rhel5 mod_bwlimited/1.4 PHP/5.4.26',\n",
       "        'Apache/2.2.21 (Unix) mod_ssl/2.2.21 OpenSSL/0.9.8e-fips-rhel5 PHP/5.3.10',\n",
       "        'Apache/2.2.27 (Unix) OpenAM Web Agent/4.0.1-1 mod_ssl/2.2.27 OpenSSL/1.0.1p PHP/5.3.28',\n",
       "        'mw2104.codfw.wmnet', '.V01 Apache', 'mw2110.codfw.wmnet',\n",
       "        'Apache/2.4.6 (Unix) mod_jk/1.2.37 PHP/5.5.1 OpenSSL/1.0.1g mod_fcgid/2.3.9',\n",
       "        'mw2176.codfw.wmnet', 'mw2187.codfw.wmnet', 'mw2106.codfw.wmnet',\n",
       "        'Microsoft-IIS/7.0',\n",
       "        'Apache/1.3.42 Ben-SSL/1.60 (Unix) mod_gzip/1.3.26.1a mod_fastcgi/2.4.6 mod_throttle/3.1.2 Chili!Soft-ASP/3.6.2 FrontPage/5.0.2.2635 mod_perl/1.31 PHP/4.4.9',\n",
       "        'Aeria Games & Entertainment', 'nginx/1.6.3 + Phusion Passenger',\n",
       "        'Apache/2.4.10 (Debian) PHP/5.6.30-0+deb8u1 mod_perl/2.0.9dev Perl/v5.20.2',\n",
       "        'mw2173.codfw.wmnet',\n",
       "        'Apache/2.4.6 (Red Hat Enterprise Linux) OpenSSL/1.0.1e-fips mod_fcgid/2.3.9 Communique/4.2.0',\n",
       "        'Apache/2.2.15 (CentOS) DAV/2 mod_ssl/2.2.15 OpenSSL/1.0.1e-fips PHP/5.3.3',\n",
       "        'Apache/2.4.6 (CentOS) OpenSSL/1.0.1e-fips PHP/7.0.14',\n",
       "        'mw2198.codfw.wmnet', 'mw2172.codfw.wmnet', 'nginx/1.2.6',\n",
       "        'Apache/2.4.6 (Unix) mod_jk/1.2.37',\n",
       "        'Apache/2.4.25 (Unix) OpenSSL/1.0.1e-fips mod_bwlimited/1.4',\n",
       "        'nginx/1.4.4', 'Cowboy', 'mw2113.codfw.wmnet',\n",
       "        'Apache/2.2.14 (Unix) mod_ssl/2.2.14 OpenSSL/0.9.8a',\n",
       "        'Apache/2.4.10 (Ubuntu)', 'mw2224.codfw.wmnet',\n",
       "        'mw2171.codfw.wmnet', 'mw2257.codfw.wmnet', 'mw2226.codfw.wmnet',\n",
       "        'DMS/1.0.42', 'nginx/1.6.3', 'Application-Server', nan,\n",
       "        'Apache/2.4.6 (CentOS) mod_fcgid/2.3.9 PHP/5.6.30',\n",
       "        'mw2177.codfw.wmnet', 'lighttpd/1.4.28', 'mw2197.codfw.wmnet',\n",
       "        'Apache/2.2.31 (FreeBSD) PHP/5.4.15 mod_ssl/2.2.31 OpenSSL/1.0.2d DAV/2',\n",
       "        'Apache/2.2.26 (Unix) mod_ssl/2.2.26 OpenSSL/1.0.1e-fips DAV/2 mod_bwlimited/1.4',\n",
       "        'Apache/2.2.24 (Unix) DAV/2 PHP/5.3.26 mod_ssl/2.2.24 OpenSSL/0.9.8y',\n",
       "        'mw2178.codfw.wmnet', '294', 'Microsoft-IIS/6.0', 'nginx/1.7.4',\n",
       "        'Apache/2.2.22 (Debian) mod_python/3.3.1 Python/2.7.3 mod_ssl/2.2.22 OpenSSL/1.0.1t',\n",
       "        'Apache/2.4.16 (Ubuntu)', 'www.lexisnexis.com  9999',\n",
       "        'nginx/0.8.38', 'mw2238.codfw.wmnet', 'Pizza/pepperoni',\n",
       "        'XXXXXXXXXXXXXXXXXXXXXX', 'MI', 'Roxen/5.4.98-r2',\n",
       "        'Apache/2.2.31 (Unix) mod_ssl/2.2.31 OpenSSL/1.0.1e-fips mod_bwlimited/1.4',\n",
       "        'nginx/1.9.13', 'mw2180.codfw.wmnet', 'Apache/2.2.14 (Ubuntu)',\n",
       "        'ebay server', 'nginx/0.8.55', 'Apache/2.2.10 (Linux/SUSE)',\n",
       "        'nginx/1.7.12',\n",
       "        'Apache/2.0.63 (Unix) mod_ssl/2.0.63 OpenSSL/0.9.8e-fips-rhel5 mod_auth_passthrough/2.1 mod_bwlimited/1.4 PHP/5.3.6',\n",
       "        'Boston.com Frontend', 'My Arse', 'IdeaWebServer/v0.80',\n",
       "        'Apache/2.4.17 (Unix) OpenSSL/1.0.1e-fips PHP/5.6.19',\n",
       "        'Microsoft-IIS/7.5; litigation_essentials.lexisnexis.com  9999',\n",
       "        'Apache/2.2.16 (Debian)'], dtype=object),\n",
       " array(['None', 'US', 'SC', 'GB', 'UK', 'RU', 'AU', 'CA', 'PA', 'se', 'IN',\n",
       "        'LU', 'TH', \"[u'GB'; u'UK']\", 'FR', 'NL', 'UG', 'JP', 'CN', 'SE',\n",
       "        'SI', 'IL', 'ru', 'KY', 'AT', 'CZ', 'PH', 'BE', 'NO', 'TR', 'LV',\n",
       "        'DE', 'ES', 'BR', 'us', 'KR', 'HK', 'UA', 'CH', 'United Kingdom',\n",
       "        'BS', 'PK', 'IT', 'Cyprus', 'BY', 'AE', 'IE', 'UY', 'KG'],\n",
       "       dtype=object),\n",
       " array(['None', 'AK', 'TX', 'Mahe', 'CO', 'FL', 'Kansas',\n",
       "        'Novosibirskaya obl.', 'CA', 'Tennessee', 'Vi', 'OR', 'Texas',\n",
       "        'ALBERTA', 'PANAMA', 'Arizona', 'WI', 'Oregon', 'Andhra Pradesh',\n",
       "        'AB', 'Tamil Nadu', 'VA', 'NY', 'quebec', 'MA', 'ON', 'New Mexico',\n",
       "        'British Columbia', 'Massachusetts', 'California', 'bangkok',\n",
       "        'WEST MIDLANDS', 'TEXAS', 'WC1N', 'Kentucky', 'MD', 'NEW YORK',\n",
       "        'Washington', 'Colorado', 'PA', 'LA', 'WA', 'Queensland', 'MOSCOW',\n",
       "        'UK', 'P', 'NH', 'Pennsylvania', 'UTTAR PRADESH', 'NC', 'kireka',\n",
       "        'IL', 'Missouri', 'Osaka', 'QC', 'Michigan', 'Maryland', 'Ontario',\n",
       "        'South Carolina', 'Zhejiang', 'New York', 'QLD', 'NJ', 'GA', 'MO',\n",
       "        'HR', 'ab', 'Greater London', 'Illinois', '--', 'Fukuoka', 'BC',\n",
       "        'AL', 'Krasnoyarsk', 'MAINE', 'Virginia', 'MH', 'GRAND CAYMAN',\n",
       "        'Austria', 'DE', 'shandong', 'AZ', 'PRAHA', 'beijingshi',\n",
       "        'liaoningsheng', 'North Carolina', 'OH', 'Manila', 'Utah', 'MI',\n",
       "        'NSW', 'UT', 'New South Wales', 'WV', 'Ohio', 'RIX', 'TR', 'nj',\n",
       "        'Panama', 'SK', 'ca', 'Alicante', 'New Jersey', 'Vic', 'ME',\n",
       "        'worcs', 'Maine', 'London', 'Karnataka', 'Quebec', 'Indiana',\n",
       "        'NEW SOUTH WALES', '6110021', 'Not Applicable', 'Peterborough',\n",
       "        'CT', 'Minnesota', 'NOT APPLICABLE', 'VIC', 'Noord-Holland',\n",
       "        'CALIFORNIA', 'Nevada', 'Nebraska', 'ILOCOS NORTE R3', 'NV', 'MB',\n",
       "        'Florida', 'Central', 'Maharashtra', 'widestep@mail.ru', 'VERMONT',\n",
       "        'ZH', 'hunansheng', 'NONE', 'Wisconsin', 'UTAH', 'Utr', 'Bei Jing',\n",
       "        '-', 'Manitoba', 'ALABAMA', 'New Providence', 'Punjab', 'qc',\n",
       "        'Connecticut', 'il', 'Berlin', 'INDAL', 'RM', 'va', 'ny',\n",
       "        'MAHARASHTR', 'ONTARIO', 'Haryana', 'MIDDLESEX', 'Rogaland',\n",
       "        'District of Columbia', 'DC', 'HANTS', 'Zug', 'VT', 'TN',\n",
       "        'ANTWERP', 'CH', 'TOKYO-TO', 'Saskatchewan', 'Alabama', 'Tottori',\n",
       "        'Arkansas', 'OK', 'Dubai', 'KS', 'Barcelona', 'CO. DUBLIN',\n",
       "        'Metro Manila', 'Montevideo', 'KG', 'FLORIDA', 'Other', 'QUEBEC',\n",
       "        'bc', 'Paris'], dtype=object),\n",
       " array(['10/10/2015 18:21', 'None', '7/10/1997 4:00', '12/05/1996 0:00',\n",
       "        '3/08/2016 14:30', '29/07/2002 0:00', '18/03/1997 0:00',\n",
       "        '8/11/2014 7:41', '14/09/2007 0:00', '22/11/2016 0:00',\n",
       "        '11/10/2002 0:00', '14/11/2002 0:00', '16/07/2000 0:00',\n",
       "        '25/05/2013 0:00', '9/08/1999 0:00', '15/09/2013 0:00',\n",
       "        '3/07/1999 0:00', '2/11/2003 0:00', '12/08/2008 22:10',\n",
       "        '21/05/2009 0:00', '1/08/2002 0:00', '13/01/2005 0:00',\n",
       "        '18/05/2005 19:41', '4/01/2001 0:00', '28/02/2008 10:58',\n",
       "        '8/12/2006 0:00', '16/06/2000 0:00', '13/10/2000 0:00',\n",
       "        '31/12/1999 0:00', '30/07/1996 0:00', '9/05/2008 0:00',\n",
       "        '23/04/1999 0:00', '4/02/1997 0:00', '13/02/2003 0:00',\n",
       "        '17/05/2008 0:00', '30/05/2002 0:00', '20/10/2005 0:00',\n",
       "        '7/01/2006 0:00', '5/03/1996 5:00', '23/03/1995 0:00',\n",
       "        '10/01/1998 0:00', '27/04/2016 0:00', '7/04/2011 0:00',\n",
       "        '26/02/2009 0:00', '3/07/2002 0:00', '21/02/1995 0:00',\n",
       "        '4/07/2007 0:00', '2/07/1998 0:00', '10/03/2005 0:00',\n",
       "        '15/12/2004 0:00', '25/02/2008 0:00', '27/01/2005 0:00',\n",
       "        '14/09/2006 0:00', '30/04/2010 14:12', '22/04/1997 0:00',\n",
       "        '16/07/2016 0:00', '27/11/2016 19:09', '30/10/2009 0:00',\n",
       "        '12/03/2009 21:00', '9/03/2000 17:50', '30/05/2008 0:00',\n",
       "        '25/09/2000 0:00', '9/04/2002 0:00', '11/01/1997 0:00',\n",
       "        '11/06/2000 0:00', '13/02/2002 19:55', '19/12/2007 0:00',\n",
       "        '6/11/1997 0:00', '21/01/2000 0:00', '27/04/2009 0:00',\n",
       "        '11/10/2000 0:00', '4/08/1998 0:00', '31/05/2000 0:00',\n",
       "        '23/10/1999 0:00', '23/06/2010 0:00', '9/03/2000 0:00',\n",
       "        '13/04/1994 0:00', '9/06/2010 0:00', '29/04/2009 0:00',\n",
       "        '19/01/2015 0:00', '11/11/2015 0:00', '22/03/2017 0:00',\n",
       "        '3/11/2009 0:00', '19/07/2010 20:03', '28/04/1997 0:00',\n",
       "        '4/03/1996 0:00', '24/10/2007 0:00', '21/10/2004 0:00',\n",
       "        '2002-03-20T23:59:59.0Z', '29/03/1997 0:00', '10/06/2008 0:00',\n",
       "        '30/11/1999 0:00', '30/08/2004 0:00', '11/11/1996 0:00',\n",
       "        '2/10/1995 4:00', '28/06/2011 0:00', '16/08/2016 0:00',\n",
       "        '9/05/2000 17:31', '31/07/2000 0:00', '14/05/1999 0:00',\n",
       "        '24/04/2009 0:00', '6/08/1998 0:00', '22/02/1996 0:00',\n",
       "        '15/06/2007 0:00', '21/09/2009 0:00', '20/01/1995 0:00',\n",
       "        '28/03/2006 0:00', '28/09/2007 16:06', '4/02/2017 0:00',\n",
       "        '7/03/1996 0:00', '4/04/2003 0:00', '26/08/2015 0:00',\n",
       "        '22/07/2004 0:00', '30/11/2004 0:00', '5/03/2008 0:00',\n",
       "        '8/05/2003 0:00', '2/11/2010 21:52', '23/05/2006 0:00',\n",
       "        '2/12/1998 0:00', '15/04/1999 0:00', '30/05/2003 0:00',\n",
       "        '10/01/2002 0:57', '17/03/2006 0:00', '1/03/1999 0:00',\n",
       "        '1/07/2015 0:00', '22/01/2006 0:00', '6/03/1996 5:00',\n",
       "        '8/02/2013 0:00', '15/04/2003 0:00', '24/10/1996 0:00',\n",
       "        '30/04/2016 0:00', '30/12/1999 0:00', '13/07/2001 0:00',\n",
       "        '29/05/1996 0:00', '25/02/2004 0:00', '18/01/1995 0:00',\n",
       "        '25/10/2014 0:00', '20/05/1996 0:00', '14/07/2000 0:00',\n",
       "        '1/12/1996 5:00', '11/11/2000 0:00', '4/09/2004 0:00',\n",
       "        '9/09/2005 13:44', '7/08/1996 0:00', '30/12/2005 0:00',\n",
       "        '4/04/2006 0:00', '25/05/2000 0:00', '5/01/1996 0:00',\n",
       "        '9/07/2008 0:00', '10/05/2006 20:00', '29/07/2006 0:00',\n",
       "        '27/09/2010 0:00', '31/10/2008 0:00', '3/03/2000 0:00',\n",
       "        '2/04/2008 0:00', '6/09/2016 0:00', '11/02/1997 0:00',\n",
       "        '6/08/1995 0:00', '23/10/2008 0:00', '19/02/2009 0:00',\n",
       "        '30/08/1998 0:00', '14/12/2006 0:00', '22/03/2005 3:36',\n",
       "        '26/06/2009 0:00', '9/02/2000 14:17', '8/06/2007 0:00',\n",
       "        '1/11/1994 0:00', '8/08/2013 0:00', '20/04/2000 0:00',\n",
       "        '12/11/2016 0:00', '8/02/2000 0:00', '25/09/2003 0:00',\n",
       "        '13/01/2001 0:12', '10/05/2002 0:00', '7/06/2005 0:00',\n",
       "        '19/08/2012 0:00', '28/04/2003 0:00', '12/03/1999 0:00',\n",
       "        '30/03/2011 0:00', '14/01/2008 0:00', '26/03/2000 0:00',\n",
       "        '2/11/2002 0:00', '10/04/2010 0:00', '6/05/2010 16:44',\n",
       "        '17/08/1999 12:43', '4/10/2006 0:00', '9/03/2007 0:00',\n",
       "        '31/05/1996 0:00', '29/07/2004 0:00', '17/01/2005 0:00',\n",
       "        '1/06/2005 0:00', '22/12/1999 0:00', '11/08/2002 0:00',\n",
       "        '17/11/2003 0:00', '14/08/2008 0:00', '22/08/2010 0:00',\n",
       "        '8/07/1996 0:00', '21/03/2014 0:00', '22/10/1998 0:00',\n",
       "        '8/07/2010 0:00', '17/07/2009 0:00', '24/05/2001 20:47',\n",
       "        '27/06/2004 0:00', '4/03/2004 0:00', '1/06/2004 0:00',\n",
       "        '13/12/1995 0:00', '10/11/2000 0:00', '30/10/2003 0:00',\n",
       "        '9/05/1998 0:00', '5/10/2006 0:00', '14/10/2005 0:00',\n",
       "        '8/09/2003 0:00', '13/07/2008 0:00', '22/08/1996 0:00',\n",
       "        '1/05/2002 0:00', '10/06/2005 0:00', '7/09/2000 0:00',\n",
       "        '31/12/2015 0:00', '8/12/2007 0:00', '6/04/2008 0:00',\n",
       "        '16/07/1998 0:00', '9/02/2001 0:00', '28/12/1999 0:00',\n",
       "        '21/01/2008 0:00', '27/02/1996 0:00', '7/10/2006 0:00',\n",
       "        '18/12/2004 0:00', '9/02/2009 0:00', '4/11/1998 0:00',\n",
       "        '4/11/2016 0:00', '15/04/2004 0:00', '2/07/2010 0:00',\n",
       "        '12/11/2007 20:49', '22/02/2006 0:00', '5/06/2000 0:00',\n",
       "        '9/12/1996 0:00', '14/10/1999 0:00', '10/05/2006 23:10',\n",
       "        '22/02/2001 0:00', '11/09/1997 4:00', '16/10/2000 0:00',\n",
       "        '8/06/2006 0:00', '18/04/2001 0:00', '5/08/1993 0:00',\n",
       "        '17/02/2011 0:00', '24/10/1999 0:00', '2/11/1996 0:00',\n",
       "        '14/02/2000 0:00', '14/09/2009 8:39', '24/05/2000 0:00',\n",
       "        '18/07/2005 0:00', '28/10/1999 0:00', '25/02/2006 0:00',\n",
       "        '12/06/2007 0:00', '18/04/1995 0:00', '25/04/2000 0:00',\n",
       "        '5/12/1997 0:00', '24/09/1996 0:00', '10/01/1992 0:00',\n",
       "        '17/07/2001 0:00', '14/07/2011 0:00', '21/09/2001 0:00',\n",
       "        '5/06/2003 0:00', '5/12/1996 0:00', '19/02/2002 1:02',\n",
       "        '28/11/1999 0:00', '26/05/1997 0:00', '5/07/2008 0:00',\n",
       "        '7/04/2007 0:00', '9/04/2011 16:13', '29/01/2004 16:01',\n",
       "        '17/02/1999 5:00', '27/02/2000 15:05', '21/07/1995 0:00',\n",
       "        '8/08/2002 0:00', '15/02/2005 0:00', '8/01/2009 10:56',\n",
       "        '1/07/2007 5:40', '21/10/2006 0:00', '30/08/2000 0:00',\n",
       "        '14/09/1995 0:00', '14/09/2000 8:47', '17/02/2006 0:00',\n",
       "        '10/07/2002 0:00', '4/09/1996 4:00', '15/05/2005 0:00',\n",
       "        '8/01/2004 0:00', '10/11/2009 0:00', '26/11/1996 0:00',\n",
       "        '2/08/2010 0:00', '24/08/2003 0:00', '19/07/2010 0:00',\n",
       "        '28/10/2008 0:00', '24/06/2003 0:00', '28/02/2008 0:00',\n",
       "        '22/09/1993 0:00', '29/09/1994 0:00', '7/11/2016 0:00',\n",
       "        '30/07/2009 4:01', '10/01/2007 15:27', '19/10/2005 0:00',\n",
       "        '13/09/2001 23:03', '2/10/2005 0:00', '27/08/2002 0:00',\n",
       "        '28/09/1996 0:00', '5/06/2006 0:00', '22/03/2006 0:00',\n",
       "        '20/10/1998 0:00', '23/04/2002 18:56', '26/09/2005 0:00',\n",
       "        '4/01/1995 0:00', '30/07/2004 0:00', '5/11/2008 0:00',\n",
       "        '29/12/2005 0:00', '17/02/2009 0:00', '2/12/2005 0:00',\n",
       "        '8/11/1998 0:00', '12/02/2002 0:00', '8/04/1996 0:00',\n",
       "        '8/05/1996 0:00', '2/03/1999 0:00', '17/12/2007 0:00',\n",
       "        '3/06/2000 0:00', '21/11/2016 0:00', '8/09/2007 0:00',\n",
       "        '25/10/2006 0:00', '18/10/1994 0:00', '23/10/1996 0:00',\n",
       "        '4/11/2003 0:00', '30/07/2002 0:00', '9/12/2008 0:00',\n",
       "        '9/03/2010 0:00', '4/07/2001 23:21', '8/03/2016 0:00',\n",
       "        '23/02/2010 0:00', '6/07/2016 14:30', '16/01/2016 0:00',\n",
       "        '13/06/1997 0:00', '22/07/2005 18:52', '7/04/2002 20:00',\n",
       "        '5/03/2013 20:51', '24/05/2004 0:00', '30/01/2006 0:00',\n",
       "        '19/12/1997 0:00', '30/11/2006 0:00', '14/04/1999 0:00',\n",
       "        '27/05/2008 0:00', '8/05/2004 20:53', '16/08/1999 0:00',\n",
       "        '4/08/1995 0:00', '18/07/2002 0:00', '23/11/1994 0:00',\n",
       "        '30/08/2015 0:00', '30/04/2009 0:00', '27/11/2006 0:00',\n",
       "        '13/02/2017 0:00', '29/09/2015 0:00', '19/08/2004 0:00',\n",
       "        '18/03/2016 0:00', '6/12/2010 0:00', '23/06/2003 0:00',\n",
       "        '3/08/2004 0:00', '14/05/2002 0:00', '26/04/2001 0:00',\n",
       "        '9/05/2004 18:06', '5/11/1997 5:00', '8/12/1995 0:00',\n",
       "        '27/06/2001 0:00', '13/11/2002 0:00', '30/01/1996 0:00',\n",
       "        '16/07/1999 0:00', '23/06/2006 0:00', '26/09/2003 0:00',\n",
       "        '10/04/2002 0:00', '11/11/2006 0:00', '20/04/1995 4:00',\n",
       "        '3/05/2015 0:00', '4/02/2005 0:00', '16/09/1996 4:00',\n",
       "        '20/07/2006 0:00', '9/12/2003 0:00', '12/03/2008 0:00',\n",
       "        '13/09/2000 0:00', '5/02/1999 0:00', '10/05/2000 0:00',\n",
       "        '25/01/1995 0:00', '5/10/2005 0:00', '28/06/2006 0:00',\n",
       "        '25/06/1997 0:00', '9/01/1998 0:00', '17/03/2000 0:00',\n",
       "        '9/10/2016 17:08', '29/02/2008 0:00', '18/05/2001 0:00',\n",
       "        '30/10/2002 0:00', '19/12/2000 0:00', '13/05/1998 0:00',\n",
       "        '9/08/2009 0:00', '29/07/2007 0:00', '15/07/2009 0:00',\n",
       "        '27/09/2000 0:00', '8/08/2001 0:00', '27/11/2002 0:00',\n",
       "        '12/03/2009 1:58', '8/11/1993 0:00', '25/07/1998 0:00',\n",
       "        '16/11/1999 0:00', '20/07/1998 4:00', '7/04/2003 0:00',\n",
       "        '4/06/2009 0:00', '29/11/2000 0:00', '3/02/1999 0:00',\n",
       "        '18/10/2000 0:00', '6/10/2005 0:00', '22/09/2009 0:00',\n",
       "        '18/01/1994 0:00', '13/09/1996 4:00', '21/07/2008 0:00',\n",
       "        '30/01/2007 0:00', '11/03/2017 0:00', '25/08/2004 0:00',\n",
       "        '16/05/2001 0:00', '22/11/2003 0:00', '14/10/2016 0:00',\n",
       "        '26/07/1995 0:00', '22/04/1999 0:00', '26/05/2006 0:00',\n",
       "        '6/08/2002 0:00', '7/03/2000 0:00', '8/07/2000 0:00',\n",
       "        '3/12/1999 0:00', '15/11/1998 0:00', '11/11/2007 0:00',\n",
       "        '19/07/2004 0:00', '2/09/2003 0:00', '28/08/1998 0:00',\n",
       "        '4/10/2003 0:00', '2/10/2007 0:00', '24/04/2007 0:00',\n",
       "        '15/12/2010 0:00', '1/06/2001 0:00', '22/08/2007 0:00',\n",
       "        '26/01/2001 0:00', '6/06/2007 0:00', '19/09/2002 0:00',\n",
       "        '28/07/1995 0:00', '8/05/2001 0:00', '18/10/2002 0:00',\n",
       "        '18/10/2004 0:00', '5/11/1997 0:00', '28/03/2000 0:00',\n",
       "        '12/04/2000 0:00', '28/11/2006 0:00', '24/02/1996 0:00',\n",
       "        '21/12/2005 0:00', '1/07/1998 0:00', '5/05/2004 0:00',\n",
       "        '2/12/2004 0:00', '10/08/1998 0:00', '13/04/2005 0:00',\n",
       "        '14/08/2000 0:00', '25/06/2002 0:00', '22/06/2014 0:00',\n",
       "        '24/05/2015 0:00', '5/08/1999 0:00', '21/08/1998 0:00',\n",
       "        '28/08/2003 0:00', '9/03/2004 0:00', '3/01/2002 0:00',\n",
       "        '22/03/2009 0:00', '3/07/2000 17:33', '2/02/1996 0:00',\n",
       "        '19/02/1997 0:00', '23/08/2010 0:00', '23/09/2009 0:00',\n",
       "        '7/10/2005 16:25', '20/09/1995 0:00', '30/01/2003 0:00',\n",
       "        '22/11/2000 0:00', '6/11/2001 1:42', '11/11/1999 0:00',\n",
       "        '26/07/1990 0:00', '26/07/2003 0:00', '16/05/1995 0:00',\n",
       "        '26/04/2004 0:00', '9/03/2006 0:00', '23/07/2011 0:00',\n",
       "        '9/12/2002 0:00', '2/04/1999 0:00', '21/05/2007 21:12',\n",
       "        '4/10/1996 0:00', '1/05/1996 0:00', '31/01/1995 5:00',\n",
       "        '22/02/2007 0:00', '6/12/1994 0:00', '2/01/2003 0:00',\n",
       "        '6/10/1999 0:00', '11/06/2003 0:00', '30/12/1996 0:00',\n",
       "        '27/02/1998 5:00', '11/01/1999 0:00', '4/01/2007 0:00',\n",
       "        '4/11/2004 22:27', '21/01/2007 22:31', '20/11/2007 0:00',\n",
       "        '12/12/2003 0:00', '4/05/2001 0:00', '9/09/2002 0:00',\n",
       "        '15/02/2000 0:00', '1/03/2005 0:00', '21/02/1992 0:00',\n",
       "        '15/10/2005 0:00', '1/06/1996 0:00', '5/03/2005 0:00',\n",
       "        '14/04/1998 0:00', '2/06/1994 0:00', '31/05/1995 0:00',\n",
       "        '2/03/1995 0:00', '18/01/2008 0:00', '22/03/1999 0:00',\n",
       "        '27/05/1998 0:00', '17/09/1998 0:00', '7/05/1998 0:00',\n",
       "        '5/11/2003 0:00', '23/10/1994 0:00', '24/05/2010 0:00',\n",
       "        '14/10/2007 12:24', '25/11/2016 0:00', '30/09/2002 0:00',\n",
       "        '9/02/2007 0:00', '10/02/1999 0:00', '7/08/1995 0:00',\n",
       "        '21/05/1997 0:00', '10/01/2006 0:00', '31/08/2004 0:00',\n",
       "        '5/12/2005 0:00', '27/05/2002 0:00', '5/05/2001 0:00',\n",
       "        '1/03/2008 0:00', '16/02/2005 0:00', '17/12/2005 0:00',\n",
       "        '2/10/2002 0:00', '6/03/1998 0:00', '29/09/2005 0:00',\n",
       "        '17/07/2000 0:00', '27/06/2015 0:00', '19/02/2005 0:00',\n",
       "        '7/11/1996 0:00', '14/12/1995 5:00', '6/11/1998 0:00',\n",
       "        '29/09/2000 0:00', '30/12/2002 0:00', '15/09/2003 0:00',\n",
       "        '15/09/1997 0:00', '21/05/1998 0:00', '4/01/1997 0:00',\n",
       "        '25/07/2003 18:21', '25/10/2005 0:00', '29/12/1999 0:00',\n",
       "        '1/09/1995 4:00', '16/03/2003 8:22', '22/07/2008 0:00',\n",
       "        '27/09/2013 0:00', '5/11/1999 0:00', 'b', '13/08/2002 0:00',\n",
       "        '1/09/1998 0:00', '8/12/1997 0:00', '16/12/1993 5:00',\n",
       "        '16/02/2001 9:00', '25/02/1999 0:00', '6/08/2004 0:00',\n",
       "        '18/05/2003 7:22', '4/02/2003 0:00', '9/08/2002 18:13',\n",
       "        '29/12/2008 0:00', '31/07/2006 0:00', '16/11/1998 0:00',\n",
       "        '18/04/2000 0:00', '20/04/2001 0:00', '28/09/2005 0:00',\n",
       "        '31/05/2005 0:00', '3/08/1998 0:00', '28/08/2007 0:00',\n",
       "        '19/12/2006 0:00', '16/01/2001 0:00', '12/12/1990 0:00',\n",
       "        '19/07/2016 0:00', '13/11/2003 0:00', '2/12/2000 0:00',\n",
       "        '7/04/2006 16:53', '6/05/2006 0:00', '12/09/2009 21:54',\n",
       "        '4/10/2010 0:00', '18/04/2005 22:11', '1/10/2001 0:00',\n",
       "        '14/07/1998 4:00', '15/08/1995 0:00', '8/09/2004 0:00',\n",
       "        '26/01/2001 12:11', '17/07/2006 0:00', '17/05/2001 0:00',\n",
       "        '7/09/1993 0:00', '7/06/2001 0:00', '13/08/2004 0:00',\n",
       "        '16/06/1996 0:00', '6/11/2007 0:00', '14/06/1995 0:00',\n",
       "        '23/03/1998 0:00', '21/04/2002 0:00', '7/07/2007 0:00',\n",
       "        '31/12/2005 0:00', '17/03/1996 5:00', '19/02/2002 0:00',\n",
       "        '28/04/2005 0:00', '21/06/1997 0:00', '24/04/1999 0:00',\n",
       "        '24/01/2001 0:00', '23/05/1997 0:00', '12/09/2002 0:00',\n",
       "        '20/02/2006 0:00', '21/11/1997 0:00', '19/03/1999 0:00',\n",
       "        '1/09/2016 0:00', '9/08/1995 0:00', '15/04/2010 0:00',\n",
       "        '4/12/2014 0:00', '16/07/1998 16:08', '10/06/1999 0:00',\n",
       "        '28/08/2001 0:00', '12/10/2003 0:00', '14/10/2001 0:00',\n",
       "        '29/09/1998 0:00', '13/06/1995 0:00', '24/09/2006 0:00',\n",
       "        '13/08/2003 0:00', '12/01/1995 0:00', '10/09/2003 0:00',\n",
       "        '9/04/2008 0:00', '25/10/2002 0:00', '21/05/1995 0:00',\n",
       "        '20/01/1998 0:00', '9/08/1996 0:00', '27/01/1999 0:00',\n",
       "        '15/08/2013 0:00', '10/08/1999 0:00', '27/05/1997 0:00',\n",
       "        '13/03/2000 0:00', '3/04/2011 0:00', '16/12/2004 0:00',\n",
       "        '4/06/2010 0:00', '11/10/2005 0:00', '25/10/2003 0:00',\n",
       "        '22/12/2003 0:00', '26/01/2007 0:00', '19/10/2006 0:00',\n",
       "        '21/06/2004 6:33', '3/12/1996 0:00', '9/02/2005 0:00',\n",
       "        '27/03/1998 0:00', '2/05/2005 0:00', '20/03/2002 0:00',\n",
       "        '15/03/2005 0:00', '5/12/1996 5:00', '10/10/2006 0:00',\n",
       "        '1/08/2007 0:00', '3/06/1993 0:00', '22/11/1996 0:00',\n",
       "        '27/04/2007 0:00', '7/04/2006 10:47', '30/03/1994 0:00',\n",
       "        '12/02/1999 0:00', '16/09/1996 0:00', '27/05/2010 0:00',\n",
       "        '24/07/2006 17:52', '5/03/1998 0:00', '28/01/2006 0:00',\n",
       "        '9/10/2014 0:00', '1/02/2003 16:44', '24/10/2000 0:00',\n",
       "        '29/08/2001 0:00', '26/07/2005 0:00', '8/02/1996 0:00',\n",
       "        '2/10/2001 13:00', '12/10/1997 4:00', '16/09/2004 0:00',\n",
       "        '27/07/2003 0:00', '15/07/1999 0:00', '28/07/2007 0:00',\n",
       "        '10/02/2000 0:00', '19/07/2004 14:56', '2/05/1996 0:00',\n",
       "        '24/09/2009 0:00', '7/03/2001 0:00', '2/01/2001 0:00',\n",
       "        '26/01/2006 21:09', '21/12/2006 0:00', '16/11/2016 0:00',\n",
       "        '13/05/2011 0:00', '26/05/1998 0:00', '8/04/2000 0:00',\n",
       "        '5/11/2007 0:00', '19/04/2006 0:00', '1/06/2006 0:00', '0',\n",
       "        '10/03/1998 0:00', '23/01/2004 0:00', '3/03/1999 0:00',\n",
       "        '3/06/1998 0:00', '11/01/2005 0:00', '2/06/2004 0:00',\n",
       "        '11/06/2002 0:00', '15/11/1995 0:00', '15/12/1994 0:00',\n",
       "        '23/07/1999 0:00', '17/08/1995 0:00', '7/09/1995 0:00',\n",
       "        '29/01/2003 23:45', '3/08/1999 0:00', '27/01/2010 0:00',\n",
       "        '28/12/1998 0:00', '18/01/1996 5:00', '17/11/2006 0:00',\n",
       "        '21/05/2006 0:00', '24/11/2001 0:00', '6/09/1997 0:00',\n",
       "        '31/10/1997 0:00', '22/09/2002 0:00', '1/05/2009 0:00',\n",
       "        '8/04/2009 0:00', '10/05/2007 19:20', '8/04/1998 0:00',\n",
       "        '20/10/2003 0:00', '5/08/2008 0:00', '29/03/2008 0:00',\n",
       "        '15/12/2007 0:00', '3/09/1996 4:00', '2/08/2000 0:00',\n",
       "        '5/11/2007 15:14', '9/01/2007 0:00', '29/03/2000 0:00',\n",
       "        '20/03/2005 0:00', '3/07/2000 0:00', '3/10/1997 0:00',\n",
       "        '31/01/1996 0:00', '20/08/2014 0:00', '16/11/1994 0:00',\n",
       "        '16/05/2000 0:00', '14/12/2004 0:00', '2/10/2000 0:00',\n",
       "        '16/06/2014 0:00', '7/02/2006 0:00', '29/04/1994 0:00',\n",
       "        '7/12/2006 0:00', '14/04/2017 0:00', '10/08/1995 0:00',\n",
       "        '18/10/2005 0:00', '23/06/1999 0:00', '3/05/2006 0:00',\n",
       "        '26/05/1994 0:00', '17/08/2010 0:00', '2/03/2000 0:00',\n",
       "        '26/01/2002 0:00', '4/02/1996 0:00', '23/07/2004 0:00',\n",
       "        '17/05/2004 0:00', '19/11/1998 0:00', '18/06/2003 0:00',\n",
       "        '7/07/1999 0:00', '25/02/2005 0:00', '22/08/2003 0:00',\n",
       "        '20/08/2000 0:00', '3/03/2004 0:00', '10/11/1994 0:00',\n",
       "        '9/07/1995 0:00', '22/09/2000 0:00', '17/04/1996 0:00',\n",
       "        '25/11/1995 0:00', '2/04/2009 0:00', '10/12/2010 0:00',\n",
       "        '5/11/1996 5:00', '8/03/2003 0:00', '12/08/2005 0:00',\n",
       "        '23/11/1998 0:00', '14/03/2004 0:00', '27/06/1996 0:00',\n",
       "        '19/05/2016 0:00', '24/05/2006 0:00', '12/02/2000 0:00',\n",
       "        '3/05/2004 0:00', '15/12/1998 0:00', '15/04/2002 0:00',\n",
       "        '5/02/2009 0:00', '7/07/1997 0:00', '5/03/1994 0:00',\n",
       "        '22/05/1995 0:00', '23/04/1996 0:00', '25/03/2010 0:00',\n",
       "        '27/01/1995 0:00', '17/09/2008 0:00', '9/08/1994 0:00',\n",
       "        '26/03/2002 0:00', '26/04/1996 0:00', '19/05/2003 0:00',\n",
       "        '20/10/2000 0:00', '2/07/1999 0:00', '17/03/2009 0:00',\n",
       "        '27/05/2006 0:00', '25/07/1995 0:00', '11/08/2009 0:00',\n",
       "        '24/03/2005 0:00', '29/03/1994 0:00', '1/02/1994 0:00',\n",
       "        '2/01/2016 0:00', '24/02/2008 18:32', '2/12/1997 0:00',\n",
       "        '17/10/2008 0:00', '16/02/2010 0:00', '10/05/1996 0:00',\n",
       "        '27/01/2007 0:00', '8/06/2009 3:48', '19/04/2003 0:00',\n",
       "        '20/12/1999 0:00', '29/12/2007 0:00', '10/01/2000 0:00',\n",
       "        '17/05/2007 0:00', '10/08/2016 0:00', '23/12/1995 0:00',\n",
       "        '3/01/2009 0:00', '22/11/1995 0:00', '26/06/2007 0:00',\n",
       "        '1/03/1994 0:00', '13/12/1993 5:00', '14/12/2009 0:00',\n",
       "        '1/04/2008 22:47', '28/11/1994 0:00', '9/12/1998 0:00',\n",
       "        '6/09/2005 0:00', '7/11/2003 0:00', '18/03/1999 0:00',\n",
       "        '8/02/2005 0:00', '8/12/2016 0:00', '21/11/1996 0:00',\n",
       "        '3/09/1996 0:00', '29/09/1993 0:00', '19/12/1995 0:00',\n",
       "        '23/03/1999 0:00', '27/01/2011 0:00', '13/01/1996 0:00',\n",
       "        '28/02/1994 5:00', '26/06/1996 0:00', '16/05/1995 4:00',\n",
       "        '16/07/2007 0:00', '22/05/2009 0:00', '10/03/2006 0:00',\n",
       "        '18/12/2006 0:00', '10/09/1998 0:00', '26/06/1995 0:00',\n",
       "        '28/12/2007 0:00', '28/07/1999 0:00', '28/02/2002 0:00',\n",
       "        '8/02/1999 0:00', '16/06/2000 17:03', '27/02/1995 0:00',\n",
       "        '13/02/1999 0:00', '12/06/2001 20:58', '23/05/1995 0:00',\n",
       "        '16/01/2008 0:00', '31/07/1997 0:00', '4/03/2006 0:00',\n",
       "        '1/11/2000 0:00', '18/12/2008 0:00', '31/08/2003 0:00',\n",
       "        '3/06/1997 0:00', '29/04/1999 0:00', '22/06/1998 0:00',\n",
       "        '14/12/1999 0:00', '28/01/2004 0:00', '28/03/2007 0:00',\n",
       "        '27/07/1995 0:00', '15/06/2006 0:00', '13/07/1998 0:00',\n",
       "        '8/01/1997 0:00', '29/07/1998 4:00', '14/08/1997 0:00',\n",
       "        '23/11/2010 0:00', '20/12/2008 0:00', '26/06/1997 0:00',\n",
       "        '15/02/1999 0:00', '1/04/1998 0:00', '14/11/2008 0:00'],\n",
       "       dtype=object),\n",
       " array(['None', '12/09/2013 0:45', '11/04/2017 0:00', '3/10/2016 3:45',\n",
       "        '1/07/2016 0:00', '19/03/2017 0:00', '9/09/2015 0:00',\n",
       "        '23/11/2016 0:00', '6/10/2016 0:00', '19/04/2015 0:00',\n",
       "        '4/07/2015 0:00', '23/05/2016 0:00', '10/02/2015 0:00',\n",
       "        '25/02/2017 0:00', '7/08/2015 0:00', '29/06/2015 0:00',\n",
       "        '13/07/2016 17:36', '15/05/2016 0:00', '22/03/2016 0:00',\n",
       "        '2/03/2017 0:00', '19/05/2016 10:14', '3/03/2017 0:00',\n",
       "        '14/02/2017 20:27', '14/12/2015 0:00', '18/05/2016 0:00',\n",
       "        '27/04/2017 0:00', '9/04/2017 0:00', '4/07/2016 0:00',\n",
       "        '27/11/2015 0:00', '25/07/2016 0:00', '8/11/2014 0:00',\n",
       "        '14/02/2017 0:00', '31/05/2016 0:00', '30/09/2016 0:00',\n",
       "        '14/12/2016 0:00', '27/05/2016 14:46', '11/11/2012 0:00',\n",
       "        '29/04/2017 0:00', '8/04/2017 0:00', '6/01/2017 0:00',\n",
       "        '2/07/2016 0:00', '19/02/2017 0:00', '5/07/2016 0:00',\n",
       "        '6/02/2017 0:00', '4/01/2017 0:00', '13/11/2016 0:00',\n",
       "        '26/02/2017 0:00', '15/11/2013 0:00', '9/09/2016 0:00',\n",
       "        '12/03/2017 1:47', '22/02/2017 0:00', '22/12/2016 0:00',\n",
       "        '1/02/2017 0:01', '27/10/2016 0:00', '30/05/2016 0:00',\n",
       "        '18/07/2016 0:00', '10/04/2017 0:00', '30/04/2015 0:00',\n",
       "        '23/02/2017 17:46', '21/11/2016 0:00', '6/11/2016 0:00',\n",
       "        '8/11/2016 0:00', '27/02/2017 0:00', '12/12/2016 0:00',\n",
       "        '2/04/2014 0:00', '13/08/2016 0:00', '23/04/2015 0:00',\n",
       "        '13/02/2014 0:00', '13/03/2017 0:00', '21/06/2016 0:00',\n",
       "        '8/03/2017 0:00', '16/02/2016 0:00', '23/03/2017 0:00',\n",
       "        '4/03/2017 0:00', '20/09/2016 13:11', '24/04/2017 0:00',\n",
       "        '7/01/2015 0:00', '22/10/2016 0:00', '14/10/2014 0:00',\n",
       "        '2017-03-07T22:02:38.0Z', '29/11/2016 0:00', '9/06/2016 0:00',\n",
       "        '6/03/2017 0:00', '18/08/2016 0:00', '27/04/2015 0:00',\n",
       "        '30/09/2016 9:12', '26/03/2017 0:00', '11/10/2016 0:20',\n",
       "        '29/06/2016 0:00', '18/03/2017 0:00', '7/11/2014 0:00',\n",
       "        '16/01/2015 0:00', '12/05/2015 0:00', '9/08/2016 0:00',\n",
       "        '18/04/2017 0:00', '22/11/2016 0:00', '24/02/2017 0:00',\n",
       "        '28/03/2017 18:24', '4/02/2017 0:00', '9/03/2017 0:00',\n",
       "        '5/04/2017 0:00', '26/08/2016 0:00', '23/06/2016 0:00',\n",
       "        '7/03/2017 0:00', '14/04/2016 0:00', '9/05/2016 0:00',\n",
       "        '20/10/2015 23:34', '13/07/2016 0:00', '2/12/2016 0:00',\n",
       "        '20/06/2012 0:00', '10/07/2015 0:00', '26/02/2014 23:35',\n",
       "        '14/08/2013 0:00', '7/03/2013 0:00', '4/03/2016 0:00',\n",
       "        '22/01/2017 0:00', '28/10/2013 10:54', '15/03/2017 0:00',\n",
       "        '19/02/2016 0:00', '19/10/2016 0:00', '4/09/2013 0:00',\n",
       "        '4/10/2016 0:00', '8/01/2016 0:00', '26/04/2015 0:00',\n",
       "        '21/03/2017 0:00', '16/01/2016 0:00', '20/03/2017 0:00',\n",
       "        '26/08/2015 0:00', '26/10/2016 0:00', '24/10/2016 0:00',\n",
       "        '22/03/2017 0:00', '30/11/2016 10:30', '3/05/2012 0:00',\n",
       "        '24/08/2016 0:00', '10/09/2016 13:29', '14/05/2015 0:00',\n",
       "        '5/11/2015 0:00', '24/05/2016 0:00', '5/05/2016 0:00',\n",
       "        '14/07/2008 0:00', '28/09/2016 0:00', '1/12/2016 0:00',\n",
       "        '12/01/2017 0:00', '23/01/2017 0:00', '12/03/2017 0:00',\n",
       "        '10/09/2012 0:00', '24/07/2012 0:00', '22/12/2015 0:00',\n",
       "        '13/12/2016 0:00', '22/03/2017 3:37', '29/03/2017 0:00',\n",
       "        '18/09/2012 0:00', '27/10/2015 0:00', '26/07/2016 0:00',\n",
       "        '25/04/2017 0:00', '26/04/2016 0:00', '16/11/2016 0:00',\n",
       "        '31/10/2016 0:00', '18/07/2014 0:00', '12/12/2015 10:16',\n",
       "        '27/07/2016 0:00', '24/06/2016 0:00', '28/04/2017 0:00',\n",
       "        '14/01/2017 0:00', '2/02/2017 0:00', '20/09/2013 15:03',\n",
       "        '21/04/2017 16:47', '3/03/2015 0:00', '15/04/2016 0:00',\n",
       "        '3/01/2016 0:00', '18/01/2017 0:00', '24/05/2012 0:00',\n",
       "        '11/11/2016 0:00', '16/03/2017 0:00', '7/07/2016 0:00',\n",
       "        '27/01/2017 0:20', '19/11/2012 0:00', '5/10/2015 0:00',\n",
       "        '2/06/2016 0:00', '10/11/2016 0:00', '10/09/2016 0:00',\n",
       "        '10/05/2016 0:00', '21/04/2017 0:00', '9/12/2015 0:00',\n",
       "        '1/09/2012 0:00', '4/06/2015 0:00', '8/12/2016 0:00',\n",
       "        '25/12/2016 0:00', '28/03/2017 0:00', '18/12/2014 0:00',\n",
       "        '16/05/2016 0:00', '28/12/2016 0:00', '28/12/2014 0:00',\n",
       "        '17/04/2016 0:00', '27/01/2016 0:00', '15/11/2016 0:00',\n",
       "        '22/02/2016 0:00', '28/03/2017 18:16', '6/07/2015 0:00',\n",
       "        '9/10/2015 0:00', '20/11/2013 0:00', '11/05/2016 14:19',\n",
       "        '24/01/2017 0:00', '9/12/2015 14:43', '25/10/2016 0:00',\n",
       "        '19/04/2017 0:00', '18/02/2017 0:00', '29/07/2016 0:00',\n",
       "        '26/11/2014 0:00', '14/02/2016 0:00', '6/09/2016 8:26',\n",
       "        '25/05/2016 0:00', '18/06/2016 0:00', '29/08/2016 0:00',\n",
       "        '26/02/2016 0:00', '5/10/2016 0:00', '14/11/2016 0:00',\n",
       "        '4/08/2015 0:00', '31/03/2017 0:00', '30/01/2017 0:00',\n",
       "        '5/01/2016 0:00', '28/05/2014 0:00', '30/06/2016 0:00',\n",
       "        '30/11/2016 0:00', '9/09/2013 0:00', '23/04/2017 0:00',\n",
       "        '30/08/2016 0:00', '28/02/2017 10:46', '29/12/2016 14:11',\n",
       "        '19/12/2016 8:39', '31/05/2016 17:46', '26/09/2016 0:00',\n",
       "        '29/07/2015 0:00', '9/01/2017 10:11', '8/12/2016 14:01',\n",
       "        '18/04/2015 0:00', '12/05/2016 0:00', '15/09/2016 21:37',\n",
       "        '19/08/2015 0:00', '16/08/2016 0:00', '18/10/2013 0:00',\n",
       "        '26/04/2016 9:14', '15/04/2017 0:00', '3/01/2017 0:00',\n",
       "        '21/04/2015 0:00', '2/11/2016 0:00', '4/05/2016 0:00',\n",
       "        '20/07/2016 0:00', '3/04/2016 0:00', '22/08/2016 0:00',\n",
       "        '15/02/2017 0:00', '7/11/2016 0:00', '19/04/2017 10:41',\n",
       "        '9/01/2017 16:53', '18/10/2016 0:00', '28/06/2016 0:00',\n",
       "        '13/02/2013 1:33', '7/02/2017 0:00', '3/10/2016 0:00',\n",
       "        '1/06/2016 0:00', '24/03/2017 0:00', '4/12/2013 0:00',\n",
       "        '20/08/2015 15:58', '23/07/2011 0:00', '30/03/2014 0:00',\n",
       "        '7/10/2016 0:00', '30/09/2015 0:00', '16/02/2015 0:00',\n",
       "        '16/03/2015 0:00', '16/10/2014 0:00', '18/11/2016 0:00',\n",
       "        '27/01/2017 0:00', '1/02/2017 0:00', '15/12/2015 0:00',\n",
       "        '13/01/2017 0:00', '28/02/2017 0:00', '4/11/2016 0:00',\n",
       "        '26/06/2014 0:00', '18/01/2013 0:00', '19/04/2017 17:24',\n",
       "        '5/09/2016 3:47', '21/07/2016 18:54', '5/05/2013 3:46',\n",
       "        '14/04/2014 0:00', '5/11/2012 0:00', '17/04/2015 0:00',\n",
       "        '8/08/2015 0:00', '27/05/2015 0:00', '4/04/2014 15:11',\n",
       "        '17/08/2013 0:00', '26/01/2017 0:00', '10/07/2013 0:00',\n",
       "        '2/07/2014 0:00', '5/01/2017 0:00', '14/03/2017 0:00',\n",
       "        '7/12/2016 0:00', '8/12/2015 0:00', '2/01/2017 0:00',\n",
       "        '4/08/2016 0:00', '24/04/2017 11:55', '5/09/2016 8:00',\n",
       "        '4/04/2014 0:00', '29/03/2013 0:00', '23/11/2015 0:00',\n",
       "        '17/06/2016 0:00', '7/03/2013 19:26', '5/04/2017 13:36',\n",
       "        '5/03/2013 0:00', '19/05/2016 0:00', '16/06/2014 0:00',\n",
       "        '11/10/2016 0:00', '5/12/2013 0:00', '21/05/2015 0:00',\n",
       "        '1/02/2013 0:00', '17/01/2016 0:00', '21/02/2017 0:00',\n",
       "        '19/03/2016 0:00', '6/07/2016 0:00', '16/12/2016 0:00',\n",
       "        '9/07/2016 0:00', '20/04/2015 0:00', '10/10/2016 0:00',\n",
       "        '9/11/2015 0:00', '18/04/2017 1:29', '12/10/2015 0:00',\n",
       "        '5/03/2017 0:00', '5/11/2016 0:00', '21/02/2017 3:57',\n",
       "        '1/11/2013 0:00', '21/10/2016 0:00', '29/01/2017 0:00',\n",
       "        '16/07/2016 7:42', '13/05/2015 0:00', '1/05/2014 0:00',\n",
       "        '14/10/2016 0:00', '25/02/2015 0:00', '21/07/2016 0:00',\n",
       "        '8/09/2016 0:00', '15/10/2015 0:00', '5/03/2016 0:00',\n",
       "        '6/10/2015 0:00', '23/12/2011 0:00', '18/12/2015 0:00',\n",
       "        '18/09/2015 0:00', '17/12/2016 0:00', '8/12/2014 0:00',\n",
       "        '31/08/2016 0:00', '17/05/2016 0:00', '24/07/2014 0:00',\n",
       "        '19/12/2015 0:00', '4/09/2016 0:00', '26/11/2015 0:00',\n",
       "        '30/04/2014 0:00', '28/04/2015 0:00', '17/10/2016 0:00',\n",
       "        '2/07/2015 0:00', '14/04/2015 0:00', '4/04/2017 0:00',\n",
       "        '13/03/2014 0:00', '27/12/2016 0:00', '26/06/2016 0:00',\n",
       "        '20/04/2016 0:00', '25/11/2015 0:00', '10/07/2012 0:00',\n",
       "        '29/04/2016 0:00', '22/06/2016 0:00', '22/04/2016 0:00',\n",
       "        '10/02/2017 0:00', '4/01/2016 0:00', '12/01/2015 0:00',\n",
       "        '4/07/2016 14:14', '7/04/2016 0:00', '10/09/2016 6:58',\n",
       "        '31/01/2016 0:00', '11/03/2017 15:28', '16/04/2016 0:00',\n",
       "        '23/02/2017 0:00', '7/12/2015 0:00', '2/05/2014 0:00',\n",
       "        '6/05/2016 0:00', '27/03/2014 15:06', '17/01/2017 0:00',\n",
       "        '25/03/2017 0:00', '4/12/2014 17:41', '3/11/2015 0:00',\n",
       "        '1/01/2017 0:00', '13/12/2008 0:00', '18/10/2014 0:00',\n",
       "        '30/10/2016 0:00', '17/12/2012 21:45', '21/09/2016 15:14',\n",
       "        '23/12/2016 4:58', '27/03/2017 0:00', '14/01/2016 0:00',\n",
       "        '13/05/2016 0:00', '9/11/2016 0:00', '29/08/2014 0:00',\n",
       "        '10/01/2017 0:00', '7/09/2016 0:00', '13/09/2016 0:00',\n",
       "        '2/04/2017 0:00', '14/04/2017 0:00', '18/11/2013 0:00',\n",
       "        '15/07/2016 0:00', '16/09/2016 0:00', '1/11/2016 0:00',\n",
       "        '1/09/2016 14:20', '24/09/2016 0:00', '9/02/2017 0:00',\n",
       "        '27/03/2014 0:00', '11/11/2014 0:00', '22/04/2015 0:00',\n",
       "        '28/01/2015 0:00', '24/02/2016 0:00', '18/11/2015 0:00',\n",
       "        '30/03/2017 0:00', '18/04/2016 0:00', '20/02/2017 0:00',\n",
       "        '25/08/2015 0:00', '6/12/2016 21:52', '5/09/2014 0:00',\n",
       "        '18/11/2014 0:00', '16/01/2017 0:00', '9/04/2014 0:00',\n",
       "        '6/12/2015 17:05', '20/10/2016 0:00', '1/03/2017 19:31',\n",
       "        '29/03/2016 17:55', '22/07/2016 0:00', '29/09/2016 0:00',\n",
       "        '11/08/2016 0:00', '17/03/2017 0:00', '15/10/2016 0:00',\n",
       "        '18/10/2015 0:00', '9/09/2015 20:47', '23/09/2014 14:02',\n",
       "        '14/09/2015 0:00', '18/01/2016 0:00', '28/08/2015 0:00',\n",
       "        '19/05/2016 15:04', '3/04/2016 11:08', '22/05/2015 0:00',\n",
       "        '29/04/2013 0:00', '8/06/2015 0:00', '19/07/2016 0:00',\n",
       "        '3/11/2016 0:00', '8/04/2017 1:39', '5/05/2015 0:00',\n",
       "        '23/08/2016 10:07', '21/10/2014 0:00', '22/03/2017 18:00',\n",
       "        '27/09/2016 0:00', '11/07/2016 9:21', '7/12/2015 11:23',\n",
       "        '15/04/2015 0:00', '5/08/2016 0:00', '20/08/2015 0:00',\n",
       "        '28/03/2016 0:00', '1/10/2016 0:00', '29/05/2015 0:00',\n",
       "        '31/12/2016 0:00', '1/06/2016 10:45', '25/04/2016 0:00',\n",
       "        '23/02/2015 0:00', '6/05/2015 0:00', '11/03/2012 0:00',\n",
       "        '2/09/2016 0:00', '2/10/2016 0:00', '11/04/2016 0:00',\n",
       "        '18/12/2016 0:00', '17/03/2016 0:00', '14/08/2016 0:00',\n",
       "        '19/12/2016 0:00', '11/09/2016 0:00', '28/03/2014 0:00',\n",
       "        '14/10/2012 0:00', '10/02/2016 0:00', '11/03/2017 0:00',\n",
       "        '19/09/2016 0:00', '21/01/2016 0:00', '17/03/2017 14:30',\n",
       "        '11/12/2015 0:00', '3/04/2017 0:00', '31/05/2013 23:28',\n",
       "        '6/04/2016 0:00', '20/04/2017 0:00', '19/04/2017 12:59',\n",
       "        '15/09/2011 0:00', '21/06/2016 17:27', '29/02/2016 0:00',\n",
       "        '30/12/2016 0:00', '2/02/2017 17:11', '6/01/2016 0:00',\n",
       "        '21/05/2016 0:00', '15/09/2014 7:40', '5/04/2017 5:17',\n",
       "        '28/10/2016 0:00', '21/05/2014 0:00', '31/01/2017 0:00',\n",
       "        '21/09/2015 0:00', '1/02/2017 5:28', '1/03/2017 0:00',\n",
       "        '18/08/2015 0:00', '12/08/2015 0:00', '11/04/2017 23:16',\n",
       "        '13/06/2016 0:00', '31/01/2013 0:00', '29/07/2013 0:00',\n",
       "        '24/02/2015 0:00', '8/01/2017 0:00', '23/01/2014 0:00',\n",
       "        '21/03/2015 0:00', '5/06/2014 0:00', '15/09/2015 0:00',\n",
       "        '10/12/2016 0:00', '7/08/2013 22:19', '20/01/2017 1:26',\n",
       "        '23/10/2013 0:00', '31/03/2016 0:00', '17/05/2013 0:00',\n",
       "        '11/01/2016 0:00', '22/09/2016 0:00', '1/11/2012 0:00',\n",
       "        '2/05/2016 0:00', '12/02/2016 0:00', '18/04/2017 17:38',\n",
       "        '15/01/2015 0:00', '6/08/2016 0:00', '30/09/2009 2:59',\n",
       "        '26/04/2017 0:00', '12/03/2017 9:17', '30/04/2013 0:00',\n",
       "        '3/08/2014 0:00', '20/07/2011 0:00', '28/10/2015 0:00',\n",
       "        '20/07/2014 0:00', '3/06/2016 0:00', '31/07/2016 0:00',\n",
       "        '8/02/2017 0:00', '30/08/2013 0:00', '12/06/2015 0:00',\n",
       "        '24/08/2015 0:00', '8/08/2016 0:00', '17/08/2016 0:00',\n",
       "        '10/08/2016 0:00', '14/06/2016 0:00', '27/12/2015 0:00',\n",
       "        '26/12/2012 0:00', '8/10/2014 0:00', '29/08/2016 20:58',\n",
       "        '12/08/2016 0:00', '2/02/2016 0:00', '24/04/2015 0:00',\n",
       "        '13/04/2016 0:00', '21/04/2016 0:00', '3/03/2016 0:00',\n",
       "        '20/12/2013 0:00', '9/03/2015 0:00', '27/09/2012 0:00',\n",
       "        '28/04/2016 0:00', '13/02/2017 0:00', '25/02/2017 14:18',\n",
       "        '11/02/2017 0:00', '30/05/2016 18:18', '26/09/2013 0:00',\n",
       "        '5/08/2013 0:00', '2/07/2015 17:44', '2/04/2017 1:35',\n",
       "        '7/04/2017 0:00', '13/08/2015 0:00', '15/02/2016 0:00',\n",
       "        '11/12/2016 0:00', '16/01/2017 17:49', '14/01/2017 16:52',\n",
       "        '12/07/2016 0:00', '7/05/2016 0:00', '25/11/2016 0:00',\n",
       "        '17/02/2016 0:00', '13/11/2013 0:00', '29/11/2014 0:00',\n",
       "        '13/07/2014 0:00', '11/08/2015 20:35', '28/01/2017 0:00',\n",
       "        '10/06/2016 13:57', '12/11/2015 0:00', '14/01/2012 0:00',\n",
       "        '20/05/2016 0:00', '27/05/2016 0:00', '2/04/2016 0:00',\n",
       "        '2/06/2009 0:00', '17/03/2016 4:34', '20/11/2015 0:00',\n",
       "        '15/07/2015 0:00', '9/12/2016 0:00'], dtype=object)]"
      ]
     },
     "execution_count": 9,
     "metadata": {},
     "output_type": "execute_result"
    }
   ],
   "source": [
    "list_unique_col_val"
   ]
  },
  {
   "cell_type": "code",
   "execution_count": 10,
   "metadata": {},
   "outputs": [
    {
     "data": {
      "text/html": [
       "<div>\n",
       "<style scoped>\n",
       "    .dataframe tbody tr th:only-of-type {\n",
       "        vertical-align: middle;\n",
       "    }\n",
       "\n",
       "    .dataframe tbody tr th {\n",
       "        vertical-align: top;\n",
       "    }\n",
       "\n",
       "    .dataframe thead th {\n",
       "        text-align: right;\n",
       "    }\n",
       "</style>\n",
       "<table border=\"1\" class=\"dataframe\">\n",
       "  <thead>\n",
       "    <tr style=\"text-align: right;\">\n",
       "      <th></th>\n",
       "      <th>0</th>\n",
       "      <th>1</th>\n",
       "      <th>2</th>\n",
       "      <th>3</th>\n",
       "      <th>4</th>\n",
       "      <th>5</th>\n",
       "      <th>6</th>\n",
       "      <th>7</th>\n",
       "      <th>8</th>\n",
       "      <th>9</th>\n",
       "      <th>...</th>\n",
       "      <th>1771</th>\n",
       "      <th>1772</th>\n",
       "      <th>1773</th>\n",
       "      <th>1774</th>\n",
       "      <th>1775</th>\n",
       "      <th>1776</th>\n",
       "      <th>1777</th>\n",
       "      <th>1778</th>\n",
       "      <th>1779</th>\n",
       "      <th>1780</th>\n",
       "    </tr>\n",
       "  </thead>\n",
       "  <tbody>\n",
       "    <tr>\n",
       "      <th>0</th>\n",
       "      <td>M0_109</td>\n",
       "      <td>B0_2314</td>\n",
       "      <td>B0_911</td>\n",
       "      <td>B0_113</td>\n",
       "      <td>B0_403</td>\n",
       "      <td>B0_2064</td>\n",
       "      <td>B0_462</td>\n",
       "      <td>B0_1128</td>\n",
       "      <td>M2_17</td>\n",
       "      <td>M3_75</td>\n",
       "      <td>...</td>\n",
       "      <td>M4_43</td>\n",
       "      <td>M4_61</td>\n",
       "      <td>M4_39</td>\n",
       "      <td>B0_156</td>\n",
       "      <td>M4_45</td>\n",
       "      <td>M4_48</td>\n",
       "      <td>M4_41</td>\n",
       "      <td>B0_162</td>\n",
       "      <td>B0_1152</td>\n",
       "      <td>B0_676</td>\n",
       "    </tr>\n",
       "    <tr>\n",
       "      <th>1</th>\n",
       "      <td>iso-8859-1</td>\n",
       "      <td>UTF-8</td>\n",
       "      <td>us-ascii</td>\n",
       "      <td>ISO-8859-1</td>\n",
       "      <td>utf-8</td>\n",
       "      <td>None</td>\n",
       "      <td>windows-1251</td>\n",
       "      <td>ISO-8859</td>\n",
       "      <td>windows-1252</td>\n",
       "      <td>None</td>\n",
       "      <td>...</td>\n",
       "      <td>None</td>\n",
       "      <td>None</td>\n",
       "      <td>None</td>\n",
       "      <td>None</td>\n",
       "      <td>None</td>\n",
       "      <td>None</td>\n",
       "      <td>None</td>\n",
       "      <td>None</td>\n",
       "      <td>None</td>\n",
       "      <td>None</td>\n",
       "    </tr>\n",
       "    <tr>\n",
       "      <th>2</th>\n",
       "      <td>nginx</td>\n",
       "      <td>Apache/2.4.10</td>\n",
       "      <td>Microsoft-HTTPAPI/2.0</td>\n",
       "      <td>None</td>\n",
       "      <td>Apache/2</td>\n",
       "      <td>nginx/1.10.1</td>\n",
       "      <td>Apache</td>\n",
       "      <td>Apache/2.2.15 (Red Hat)</td>\n",
       "      <td>Apache/2.4.23 (Unix) OpenSSL/1.0.1e-fips mod_b...</td>\n",
       "      <td>openresty/1.11.2.1</td>\n",
       "      <td>...</td>\n",
       "      <td>None</td>\n",
       "      <td>None</td>\n",
       "      <td>None</td>\n",
       "      <td>None</td>\n",
       "      <td>None</td>\n",
       "      <td>None</td>\n",
       "      <td>None</td>\n",
       "      <td>None</td>\n",
       "      <td>None</td>\n",
       "      <td>None</td>\n",
       "    </tr>\n",
       "    <tr>\n",
       "      <th>3</th>\n",
       "      <td>None</td>\n",
       "      <td>US</td>\n",
       "      <td>SC</td>\n",
       "      <td>GB</td>\n",
       "      <td>UK</td>\n",
       "      <td>RU</td>\n",
       "      <td>AU</td>\n",
       "      <td>CA</td>\n",
       "      <td>PA</td>\n",
       "      <td>se</td>\n",
       "      <td>...</td>\n",
       "      <td>None</td>\n",
       "      <td>None</td>\n",
       "      <td>None</td>\n",
       "      <td>None</td>\n",
       "      <td>None</td>\n",
       "      <td>None</td>\n",
       "      <td>None</td>\n",
       "      <td>None</td>\n",
       "      <td>None</td>\n",
       "      <td>None</td>\n",
       "    </tr>\n",
       "    <tr>\n",
       "      <th>4</th>\n",
       "      <td>None</td>\n",
       "      <td>AK</td>\n",
       "      <td>TX</td>\n",
       "      <td>Mahe</td>\n",
       "      <td>CO</td>\n",
       "      <td>FL</td>\n",
       "      <td>Kansas</td>\n",
       "      <td>Novosibirskaya obl.</td>\n",
       "      <td>CA</td>\n",
       "      <td>Tennessee</td>\n",
       "      <td>...</td>\n",
       "      <td>None</td>\n",
       "      <td>None</td>\n",
       "      <td>None</td>\n",
       "      <td>None</td>\n",
       "      <td>None</td>\n",
       "      <td>None</td>\n",
       "      <td>None</td>\n",
       "      <td>None</td>\n",
       "      <td>None</td>\n",
       "      <td>None</td>\n",
       "    </tr>\n",
       "  </tbody>\n",
       "</table>\n",
       "<p>5 rows × 1781 columns</p>\n",
       "</div>"
      ],
      "text/plain": [
       "         0              1                      2           3         4     \\\n",
       "0      M0_109        B0_2314                 B0_911      B0_113    B0_403   \n",
       "1  iso-8859-1          UTF-8               us-ascii  ISO-8859-1     utf-8   \n",
       "2       nginx  Apache/2.4.10  Microsoft-HTTPAPI/2.0        None  Apache/2   \n",
       "3        None             US                     SC          GB        UK   \n",
       "4        None             AK                     TX        Mahe        CO   \n",
       "\n",
       "           5             6                        7     \\\n",
       "0       B0_2064        B0_462                  B0_1128   \n",
       "1          None  windows-1251                 ISO-8859   \n",
       "2  nginx/1.10.1        Apache  Apache/2.2.15 (Red Hat)   \n",
       "3            RU            AU                       CA   \n",
       "4            FL        Kansas      Novosibirskaya obl.   \n",
       "\n",
       "                                                8                   9     ...  \\\n",
       "0                                              M2_17               M3_75  ...   \n",
       "1                                       windows-1252                None  ...   \n",
       "2  Apache/2.4.23 (Unix) OpenSSL/1.0.1e-fips mod_b...  openresty/1.11.2.1  ...   \n",
       "3                                                 PA                  se  ...   \n",
       "4                                                 CA           Tennessee  ...   \n",
       "\n",
       "    1771   1772   1773    1774   1775   1776   1777    1778     1779    1780  \n",
       "0  M4_43  M4_61  M4_39  B0_156  M4_45  M4_48  M4_41  B0_162  B0_1152  B0_676  \n",
       "1   None   None   None    None   None   None   None    None     None    None  \n",
       "2   None   None   None    None   None   None   None    None     None    None  \n",
       "3   None   None   None    None   None   None   None    None     None    None  \n",
       "4   None   None   None    None   None   None   None    None     None    None  \n",
       "\n",
       "[5 rows x 1781 columns]"
      ]
     },
     "execution_count": 10,
     "metadata": {},
     "output_type": "execute_result"
    }
   ],
   "source": [
    "#transform list into dataframe\n",
    "list_dataframe = pd.DataFrame(list_unique_col_val)\n",
    "\n",
    "list_dataframe.head()"
   ]
  },
  {
   "cell_type": "code",
   "execution_count": 11,
   "metadata": {},
   "outputs": [
    {
     "data": {
      "text/html": [
       "<div>\n",
       "<style scoped>\n",
       "    .dataframe tbody tr th:only-of-type {\n",
       "        vertical-align: middle;\n",
       "    }\n",
       "\n",
       "    .dataframe tbody tr th {\n",
       "        vertical-align: top;\n",
       "    }\n",
       "\n",
       "    .dataframe thead th {\n",
       "        text-align: right;\n",
       "    }\n",
       "</style>\n",
       "<table border=\"1\" class=\"dataframe\">\n",
       "  <thead>\n",
       "    <tr style=\"text-align: right;\">\n",
       "      <th></th>\n",
       "      <th>0</th>\n",
       "      <th>1</th>\n",
       "      <th>2</th>\n",
       "      <th>3</th>\n",
       "      <th>4</th>\n",
       "      <th>5</th>\n",
       "      <th>6</th>\n",
       "    </tr>\n",
       "  </thead>\n",
       "  <tbody>\n",
       "    <tr>\n",
       "      <th>0</th>\n",
       "      <td>M0_109</td>\n",
       "      <td>iso-8859-1</td>\n",
       "      <td>nginx</td>\n",
       "      <td>None</td>\n",
       "      <td>None</td>\n",
       "      <td>10/10/2015 18:21</td>\n",
       "      <td>None</td>\n",
       "    </tr>\n",
       "    <tr>\n",
       "      <th>1</th>\n",
       "      <td>B0_2314</td>\n",
       "      <td>UTF-8</td>\n",
       "      <td>Apache/2.4.10</td>\n",
       "      <td>US</td>\n",
       "      <td>AK</td>\n",
       "      <td>None</td>\n",
       "      <td>12/09/2013 0:45</td>\n",
       "    </tr>\n",
       "    <tr>\n",
       "      <th>2</th>\n",
       "      <td>B0_911</td>\n",
       "      <td>us-ascii</td>\n",
       "      <td>Microsoft-HTTPAPI/2.0</td>\n",
       "      <td>SC</td>\n",
       "      <td>TX</td>\n",
       "      <td>7/10/1997 4:00</td>\n",
       "      <td>11/04/2017 0:00</td>\n",
       "    </tr>\n",
       "    <tr>\n",
       "      <th>3</th>\n",
       "      <td>B0_113</td>\n",
       "      <td>ISO-8859-1</td>\n",
       "      <td>None</td>\n",
       "      <td>GB</td>\n",
       "      <td>Mahe</td>\n",
       "      <td>12/05/1996 0:00</td>\n",
       "      <td>3/10/2016 3:45</td>\n",
       "    </tr>\n",
       "    <tr>\n",
       "      <th>4</th>\n",
       "      <td>B0_403</td>\n",
       "      <td>utf-8</td>\n",
       "      <td>Apache/2</td>\n",
       "      <td>UK</td>\n",
       "      <td>CO</td>\n",
       "      <td>3/08/2016 14:30</td>\n",
       "      <td>1/07/2016 0:00</td>\n",
       "    </tr>\n",
       "  </tbody>\n",
       "</table>\n",
       "</div>"
      ],
      "text/plain": [
       "         0           1                      2     3     4                 5  \\\n",
       "0   M0_109  iso-8859-1                  nginx  None  None  10/10/2015 18:21   \n",
       "1  B0_2314       UTF-8          Apache/2.4.10    US    AK              None   \n",
       "2   B0_911    us-ascii  Microsoft-HTTPAPI/2.0    SC    TX    7/10/1997 4:00   \n",
       "3   B0_113  ISO-8859-1                   None    GB  Mahe   12/05/1996 0:00   \n",
       "4   B0_403       utf-8               Apache/2    UK    CO   3/08/2016 14:30   \n",
       "\n",
       "                 6  \n",
       "0             None  \n",
       "1  12/09/2013 0:45  \n",
       "2  11/04/2017 0:00  \n",
       "3   3/10/2016 3:45  \n",
       "4   1/07/2016 0:00  "
      ]
     },
     "execution_count": 11,
     "metadata": {},
     "output_type": "execute_result"
    }
   ],
   "source": [
    "#By the output above we need to transpose to have a similar format to the dataframe websites for reasons of readability\n",
    "list_dataframe_transposed = list_dataframe.T\n",
    "\n",
    "#check the dataframe after being transposed\n",
    "list_dataframe_transposed.head()"
   ]
  },
  {
   "cell_type": "code",
   "execution_count": 12,
   "metadata": {},
   "outputs": [
    {
     "data": {
      "text/html": [
       "<div>\n",
       "<style scoped>\n",
       "    .dataframe tbody tr th:only-of-type {\n",
       "        vertical-align: middle;\n",
       "    }\n",
       "\n",
       "    .dataframe tbody tr th {\n",
       "        vertical-align: top;\n",
       "    }\n",
       "\n",
       "    .dataframe thead th {\n",
       "        text-align: right;\n",
       "    }\n",
       "</style>\n",
       "<table border=\"1\" class=\"dataframe\">\n",
       "  <thead>\n",
       "    <tr style=\"text-align: right;\">\n",
       "      <th></th>\n",
       "      <th>URL</th>\n",
       "      <th>CHARSET</th>\n",
       "      <th>SERVER</th>\n",
       "      <th>WHOIS_COUNTRY</th>\n",
       "      <th>WHOIS_STATEPRO</th>\n",
       "      <th>WHOIS_REGDATE</th>\n",
       "      <th>WHOIS_UPDATED_DATE</th>\n",
       "    </tr>\n",
       "  </thead>\n",
       "  <tbody>\n",
       "    <tr>\n",
       "      <th>0</th>\n",
       "      <td>M0_109</td>\n",
       "      <td>iso-8859-1</td>\n",
       "      <td>nginx</td>\n",
       "      <td>None</td>\n",
       "      <td>None</td>\n",
       "      <td>10/10/2015 18:21</td>\n",
       "      <td>None</td>\n",
       "    </tr>\n",
       "    <tr>\n",
       "      <th>1</th>\n",
       "      <td>B0_2314</td>\n",
       "      <td>UTF-8</td>\n",
       "      <td>Apache/2.4.10</td>\n",
       "      <td>US</td>\n",
       "      <td>AK</td>\n",
       "      <td>None</td>\n",
       "      <td>12/09/2013 0:45</td>\n",
       "    </tr>\n",
       "    <tr>\n",
       "      <th>2</th>\n",
       "      <td>B0_911</td>\n",
       "      <td>us-ascii</td>\n",
       "      <td>Microsoft-HTTPAPI/2.0</td>\n",
       "      <td>SC</td>\n",
       "      <td>TX</td>\n",
       "      <td>7/10/1997 4:00</td>\n",
       "      <td>11/04/2017 0:00</td>\n",
       "    </tr>\n",
       "    <tr>\n",
       "      <th>3</th>\n",
       "      <td>B0_113</td>\n",
       "      <td>ISO-8859-1</td>\n",
       "      <td>None</td>\n",
       "      <td>GB</td>\n",
       "      <td>Mahe</td>\n",
       "      <td>12/05/1996 0:00</td>\n",
       "      <td>3/10/2016 3:45</td>\n",
       "    </tr>\n",
       "    <tr>\n",
       "      <th>4</th>\n",
       "      <td>B0_403</td>\n",
       "      <td>utf-8</td>\n",
       "      <td>Apache/2</td>\n",
       "      <td>UK</td>\n",
       "      <td>CO</td>\n",
       "      <td>3/08/2016 14:30</td>\n",
       "      <td>1/07/2016 0:00</td>\n",
       "    </tr>\n",
       "  </tbody>\n",
       "</table>\n",
       "</div>"
      ],
      "text/plain": [
       "       URL     CHARSET                 SERVER WHOIS_COUNTRY WHOIS_STATEPRO  \\\n",
       "0   M0_109  iso-8859-1                  nginx          None           None   \n",
       "1  B0_2314       UTF-8          Apache/2.4.10            US             AK   \n",
       "2   B0_911    us-ascii  Microsoft-HTTPAPI/2.0            SC             TX   \n",
       "3   B0_113  ISO-8859-1                   None            GB           Mahe   \n",
       "4   B0_403       utf-8               Apache/2            UK             CO   \n",
       "\n",
       "      WHOIS_REGDATE WHOIS_UPDATED_DATE  \n",
       "0  10/10/2015 18:21               None  \n",
       "1              None    12/09/2013 0:45  \n",
       "2    7/10/1997 4:00    11/04/2017 0:00  \n",
       "3   12/05/1996 0:00     3/10/2016 3:45  \n",
       "4   3/08/2016 14:30     1/07/2016 0:00  "
      ]
     },
     "execution_count": 12,
     "metadata": {},
     "output_type": "execute_result"
    }
   ],
   "source": [
    "#To be easy to understand the dataframe i'm going to assing the original labels to the columns\n",
    "\n",
    "#Assign the names to the columns\n",
    "list_dataframe_transposed.columns = categ_col\n",
    "\n",
    "list_dataframe_transposed.head()"
   ]
  },
  {
   "cell_type": "markdown",
   "metadata": {},
   "source": [
    "#### Next, evaluate if the columns in this dataset are strongly correlated.\n",
    "\n",
    "If our dataset has strongly correlated columns, we need to choose certain ML algorithms instead of others. We need to evaluate this for our dataset now.\n",
    "\n",
    "Luckily, most of the columns in this dataset are ordinal which makes things a lot easier for us. In the next cells below, evaluate the level of collinearity of the data.\n",
    "\n",
    "We provide some general directions for you to consult in order to complete this step:\n",
    "\n",
    "1. You will create a correlation matrix using the numeric columns in the dataset.\n",
    "\n",
    "1. Create a heatmap using `seaborn` to visualize which columns have high collinearity.\n",
    "\n",
    "1. Comment on which columns you might need to remove due to high collinearity."
   ]
  },
  {
   "cell_type": "code",
   "execution_count": 13,
   "metadata": {},
   "outputs": [
    {
     "data": {
      "image/png": "[encoded data removed]",
      "text/plain": [
       "<Figure size 720x576 with 2 Axes>"
      ]
     },
     "metadata": {
      "needs_background": "light"
     },
     "output_type": "display_data"
    }
   ],
   "source": [
    "# Your code here\n",
    "\n",
    "import matplotlib.pyplot as plt\n",
    "import seaborn as sns\n",
    "\n",
    "#gets rid of all the columns that are not ordinal\n",
    "websites_ord = websites.drop(categ_col,axis=1,inplace=False)\n",
    "\n",
    "#creates a correlation matrix \n",
    "corr_matrix = websites_ord.corr()\n",
    "\n",
    "# creating mask\n",
    "mask = np.triu(np.ones_like(websites_ord.corr()))\n",
    "\n",
    "#defining the size/dimensions of the plot\n",
    "plt.figure(figsize=(10,8))\n",
    "\n",
    "# plotting a triangle correlation heatmap\n",
    "sns.heatmap(corr_matrix,annot=True,mask=mask)\n",
    "\n",
    "#displays the plot\n",
    "plt.show()"
   ]
  },
  {
   "cell_type": "code",
   "execution_count": 14,
   "metadata": {},
   "outputs": [],
   "source": [
    "# Your comment here\n",
    "\n",
    "#The columns TCP_CONVERSATION_EXCHANGE , SOURCE_APP_PACKETS, REMOTE_APP_PACKETS  need to be remove due to high collinearity\n",
    "#the two first have 100% and the last 99% correlation with the column APP_PACKETS."
   ]
  },
  {
   "cell_type": "markdown",
   "metadata": {},
   "source": [
    "# Challenge 2 - Remove Column Collinearity.\n",
    "\n",
    "From the heatmap you created, you should have seen at least 3 columns that can be removed due to high collinearity. Remove these columns from the dataset.\n",
    "\n",
    "Note that you should remove as few columns as you can. You don't have to remove all the columns at once. But instead, try removing one column, then produce the heatmap again to determine if additional columns should be removed. As long as the dataset no longer contains columns that are correlated for over 90%, you can stop. Also, keep in mind when two columns have high collinearity, you only need to remove one of them but not both.\n",
    "\n",
    "In the cells below, remove as few columns as you can to eliminate the high collinearity in the dataset. Make sure to comment on your way so that the instructional team can learn about your thinking process which allows them to give feedback. At the end, print the heatmap again."
   ]
  },
  {
   "cell_type": "code",
   "execution_count": 15,
   "metadata": {},
   "outputs": [
    {
     "data": {
      "image/png": "[encoded data removed]",
      "text/plain": [
       "<Figure size 720x576 with 2 Axes>"
      ]
     },
     "metadata": {
      "needs_background": "light"
     },
     "output_type": "display_data"
    }
   ],
   "source": [
    "# Your code here\n",
    "\n",
    "#remove one of the higly correlated columns\n",
    "Remove_col_colliner = websites_ord.drop(['TCP_CONVERSATION_EXCHANGE','SOURCE_APP_PACKETS'],axis=1)\n",
    "\n",
    "#creates a correlation matrix \n",
    "corr_matrix2 = Remove_col_colliner.corr()\n",
    "\n",
    "# creating mask\n",
    "mask = np.triu(np.ones_like(corr_matrix2))\n",
    "\n",
    "#defining the size/dimensions of the plot\n",
    "plt.figure(figsize=(10,8))\n",
    "\n",
    "# plotting a triangle correlation heatmap\n",
    "sns.heatmap(corr_matrix2,annot=True,mask=mask)\n",
    "\n",
    "#displays the plot\n",
    "plt.show()"
   ]
  },
  {
   "cell_type": "code",
   "execution_count": 16,
   "metadata": {},
   "outputs": [],
   "source": [
    "# Your comment here\n",
    "#After removing the columns it didn't change the correlation value for the last higly correlated column"
   ]
  },
  {
   "cell_type": "code",
   "execution_count": 17,
   "metadata": {},
   "outputs": [
    {
     "data": {
      "image/png": "[encoded data removed]",
      "text/plain": [
       "<Figure size 720x576 with 2 Axes>"
      ]
     },
     "metadata": {
      "needs_background": "light"
     },
     "output_type": "display_data"
    }
   ],
   "source": [
    "# Print heatmap again\n",
    "\n",
    "#remove one of the higly correlated columns\n",
    "Remove_col_colliner = websites_ord.drop(['TCP_CONVERSATION_EXCHANGE','SOURCE_APP_PACKETS','REMOTE_APP_PACKETS'],axis=1)\n",
    "\n",
    "#creates a correlation matrix \n",
    "corr_matrix2 = Remove_col_colliner.corr()\n",
    "\n",
    "# creating mask\n",
    "mask = np.triu(np.ones_like(corr_matrix2))\n",
    "\n",
    "#defining the size/dimensions of the plot\n",
    "plt.figure(figsize=(10,8))\n",
    "\n",
    "# plotting a triangle correlation heatmap\n",
    "sns.heatmap(corr_matrix2,annot=True,mask=mask)\n",
    "\n",
    "#displays the plot\n",
    "plt.show()"
   ]
  },
  {
   "cell_type": "code",
   "execution_count": 18,
   "metadata": {},
   "outputs": [
    {
     "data": {
      "image/png": "[encoded data removed]",
      "text/plain": [
       "<Figure size 720x576 with 2 Axes>"
      ]
     },
     "metadata": {
      "needs_background": "light"
     },
     "output_type": "display_data"
    }
   ],
   "source": [
    "#looking at the heatmap above we can see that APP_Bytes and Remote_APP_BYTES have identical correlation values with the other columns\n",
    "# based on that we could drop one of the columns, i'm going to choose the column Remote_APP_BYTES to drop\n",
    "\n",
    "#remove one of the higly correlated columns\n",
    "Remove_col_colliner = websites_ord.drop(['TCP_CONVERSATION_EXCHANGE','SOURCE_APP_PACKETS','REMOTE_APP_PACKETS','REMOTE_APP_BYTES'],axis=1)\n",
    "\n",
    "#creates a correlation matrix \n",
    "corr_matrix2 = Remove_col_colliner.corr()\n",
    "\n",
    "# creating mask\n",
    "mask = np.triu(np.ones_like(corr_matrix2))\n",
    "\n",
    "#defining the size/dimensions of the plot\n",
    "plt.figure(figsize=(10,8))\n",
    "\n",
    "# plotting a triangle correlation heatmap\n",
    "sns.heatmap(corr_matrix2,annot=True,mask=mask)\n",
    "\n",
    "#displays the plot\n",
    "plt.show()"
   ]
  },
  {
   "cell_type": "code",
   "execution_count": 19,
   "metadata": {},
   "outputs": [],
   "source": [
    "#websites 2 is the dataframe where the columns with high collineratity where removed,\n",
    "#and have the columns with categorical values\n",
    "\n",
    "websites2 = websites.drop(['TCP_CONVERSATION_EXCHANGE','SOURCE_APP_PACKETS','REMOTE_APP_PACKETS','REMOTE_APP_BYTES'],axis=1)"
   ]
  },
  {
   "cell_type": "markdown",
   "metadata": {},
   "source": [
    "# Challenge 3 - Handle Missing Values\n",
    "\n",
    "The next step would be handling missing values. **We start by examining the number of missing values in each column, which you will do in the next cell.**"
   ]
  },
  {
   "cell_type": "code",
   "execution_count": 20,
   "metadata": {},
   "outputs": [
    {
     "data": {
      "text/plain": [
       "URL                            0\n",
       "URL_LENGTH                     0\n",
       "NUMBER_SPECIAL_CHARACTERS      0\n",
       "CHARSET                        0\n",
       "SERVER                         1\n",
       "CONTENT_LENGTH               812\n",
       "WHOIS_COUNTRY                  0\n",
       "WHOIS_STATEPRO                 0\n",
       "WHOIS_REGDATE                  0\n",
       "WHOIS_UPDATED_DATE             0\n",
       "DIST_REMOTE_TCP_PORT           0\n",
       "REMOTE_IPS                     0\n",
       "APP_BYTES                      0\n",
       "SOURCE_APP_BYTES               0\n",
       "APP_PACKETS                    0\n",
       "DNS_QUERY_TIMES                1\n",
       "Type                           0\n",
       "dtype: int64"
      ]
     },
     "execution_count": 20,
     "metadata": {},
     "output_type": "execute_result"
    }
   ],
   "source": [
    "# Your code here\n",
    "websites2.isnull().sum()"
   ]
  },
  {
   "cell_type": "code",
   "execution_count": 21,
   "metadata": {},
   "outputs": [
    {
     "name": "stdout",
     "output_type": "stream",
     "text": [
      "The proportion of the missing values in CONTENT_LENGTH to the total number of values in the column is 46 %\n"
     ]
    }
   ],
   "source": [
    "proportion = (websites2['CONTENT_LENGTH'].isnull().sum()) / len(websites2['CONTENT_LENGTH'])*100\n",
    "print('The proportion of the missing values in CONTENT_LENGTH to the total number of values in the column is',\"{:.0f}\".format(proportion),'%')"
   ]
  },
  {
   "cell_type": "code",
   "execution_count": 22,
   "metadata": {},
   "outputs": [
    {
     "data": {
      "text/plain": [
       "URL                          0\n",
       "URL_LENGTH                   0\n",
       "NUMBER_SPECIAL_CHARACTERS    0\n",
       "CHARSET                      0\n",
       "SERVER                       1\n",
       "WHOIS_COUNTRY                0\n",
       "WHOIS_STATEPRO               0\n",
       "WHOIS_REGDATE                0\n",
       "WHOIS_UPDATED_DATE           0\n",
       "DIST_REMOTE_TCP_PORT         0\n",
       "REMOTE_IPS                   0\n",
       "APP_BYTES                    0\n",
       "SOURCE_APP_BYTES             0\n",
       "APP_PACKETS                  0\n",
       "DNS_QUERY_TIMES              1\n",
       "Type                         0\n",
       "dtype: int64"
      ]
     },
     "execution_count": 22,
     "metadata": {},
     "output_type": "execute_result"
    }
   ],
   "source": [
    "#because the proportion of values is high i'm going to drop the column\n",
    "\n",
    "websites2 = websites2.drop('CONTENT_LENGTH',axis =1)\n",
    "\n",
    "#another way of syntax to drop the column\n",
    "#websites2 = websites2.drop(columns=['CONTENT_LENGTH'])\n",
    "\n",
    "websites2.isnull().sum()"
   ]
  },
  {
   "cell_type": "markdown",
   "metadata": {},
   "source": [
    "If you remember in the previous labs, we drop a column if the column contains a high proportion of missing values. After dropping those problematic columns, we drop the rows with missing values.\n",
    "\n",
    "#### In the cells below, handle the missing values from the dataset. Remember to comment the rationale of your decisions."
   ]
  },
  {
   "cell_type": "code",
   "execution_count": 23,
   "metadata": {},
   "outputs": [
    {
     "data": {
      "text/html": [
       "<div>\n",
       "<style scoped>\n",
       "    .dataframe tbody tr th:only-of-type {\n",
       "        vertical-align: middle;\n",
       "    }\n",
       "\n",
       "    .dataframe tbody tr th {\n",
       "        vertical-align: top;\n",
       "    }\n",
       "\n",
       "    .dataframe thead th {\n",
       "        text-align: right;\n",
       "    }\n",
       "</style>\n",
       "<table border=\"1\" class=\"dataframe\">\n",
       "  <thead>\n",
       "    <tr style=\"text-align: right;\">\n",
       "      <th></th>\n",
       "      <th>URL</th>\n",
       "      <th>URL_LENGTH</th>\n",
       "      <th>NUMBER_SPECIAL_CHARACTERS</th>\n",
       "      <th>CHARSET</th>\n",
       "      <th>SERVER</th>\n",
       "      <th>WHOIS_COUNTRY</th>\n",
       "      <th>WHOIS_STATEPRO</th>\n",
       "      <th>WHOIS_REGDATE</th>\n",
       "      <th>WHOIS_UPDATED_DATE</th>\n",
       "      <th>DIST_REMOTE_TCP_PORT</th>\n",
       "      <th>REMOTE_IPS</th>\n",
       "      <th>APP_BYTES</th>\n",
       "      <th>SOURCE_APP_BYTES</th>\n",
       "      <th>APP_PACKETS</th>\n",
       "      <th>DNS_QUERY_TIMES</th>\n",
       "      <th>Type</th>\n",
       "    </tr>\n",
       "  </thead>\n",
       "  <tbody>\n",
       "    <tr>\n",
       "      <th>1306</th>\n",
       "      <td>B0_2134</td>\n",
       "      <td>66</td>\n",
       "      <td>11</td>\n",
       "      <td>UTF-8</td>\n",
       "      <td>NaN</td>\n",
       "      <td>US</td>\n",
       "      <td>District of Columbia</td>\n",
       "      <td>1/02/2003 16:44</td>\n",
       "      <td>2/02/2017 17:11</td>\n",
       "      <td>2</td>\n",
       "      <td>4</td>\n",
       "      <td>1026</td>\n",
       "      <td>246</td>\n",
       "      <td>15</td>\n",
       "      <td>0.0</td>\n",
       "      <td>0</td>\n",
       "    </tr>\n",
       "  </tbody>\n",
       "</table>\n",
       "</div>"
      ],
      "text/plain": [
       "          URL  URL_LENGTH  NUMBER_SPECIAL_CHARACTERS CHARSET SERVER  \\\n",
       "1306  B0_2134          66                         11   UTF-8    NaN   \n",
       "\n",
       "     WHOIS_COUNTRY        WHOIS_STATEPRO    WHOIS_REGDATE WHOIS_UPDATED_DATE  \\\n",
       "1306            US  District of Columbia  1/02/2003 16:44    2/02/2017 17:11   \n",
       "\n",
       "      DIST_REMOTE_TCP_PORT  REMOTE_IPS  APP_BYTES  SOURCE_APP_BYTES  \\\n",
       "1306                     2           4       1026               246   \n",
       "\n",
       "      APP_PACKETS  DNS_QUERY_TIMES  Type  \n",
       "1306           15              0.0     0  "
      ]
     },
     "execution_count": 23,
     "metadata": {},
     "output_type": "execute_result"
    }
   ],
   "source": [
    "# Your code here\n",
    "websites2[websites2['SERVER'].isnull()==True]"
   ]
  },
  {
   "cell_type": "code",
   "execution_count": 24,
   "metadata": {
    "scrolled": true
   },
   "outputs": [
    {
     "data": {
      "text/html": [
       "<div>\n",
       "<style scoped>\n",
       "    .dataframe tbody tr th:only-of-type {\n",
       "        vertical-align: middle;\n",
       "    }\n",
       "\n",
       "    .dataframe tbody tr th {\n",
       "        vertical-align: top;\n",
       "    }\n",
       "\n",
       "    .dataframe thead th {\n",
       "        text-align: right;\n",
       "    }\n",
       "</style>\n",
       "<table border=\"1\" class=\"dataframe\">\n",
       "  <thead>\n",
       "    <tr style=\"text-align: right;\">\n",
       "      <th></th>\n",
       "      <th>URL</th>\n",
       "      <th>URL_LENGTH</th>\n",
       "      <th>NUMBER_SPECIAL_CHARACTERS</th>\n",
       "      <th>CHARSET</th>\n",
       "      <th>SERVER</th>\n",
       "      <th>WHOIS_COUNTRY</th>\n",
       "      <th>WHOIS_STATEPRO</th>\n",
       "      <th>WHOIS_REGDATE</th>\n",
       "      <th>WHOIS_UPDATED_DATE</th>\n",
       "      <th>DIST_REMOTE_TCP_PORT</th>\n",
       "      <th>REMOTE_IPS</th>\n",
       "      <th>APP_BYTES</th>\n",
       "      <th>SOURCE_APP_BYTES</th>\n",
       "      <th>APP_PACKETS</th>\n",
       "      <th>DNS_QUERY_TIMES</th>\n",
       "      <th>Type</th>\n",
       "    </tr>\n",
       "  </thead>\n",
       "  <tbody>\n",
       "    <tr>\n",
       "      <th>1659</th>\n",
       "      <td>B0_772</td>\n",
       "      <td>101</td>\n",
       "      <td>15</td>\n",
       "      <td>UTF-8</td>\n",
       "      <td>Apache</td>\n",
       "      <td>CA</td>\n",
       "      <td>ON</td>\n",
       "      <td>14/12/2009 0:00</td>\n",
       "      <td>13/12/2016 0:00</td>\n",
       "      <td>2</td>\n",
       "      <td>2</td>\n",
       "      <td>276</td>\n",
       "      <td>416</td>\n",
       "      <td>4</td>\n",
       "      <td>NaN</td>\n",
       "      <td>0</td>\n",
       "    </tr>\n",
       "  </tbody>\n",
       "</table>\n",
       "</div>"
      ],
      "text/plain": [
       "         URL  URL_LENGTH  NUMBER_SPECIAL_CHARACTERS CHARSET  SERVER  \\\n",
       "1659  B0_772         101                         15   UTF-8  Apache   \n",
       "\n",
       "     WHOIS_COUNTRY WHOIS_STATEPRO    WHOIS_REGDATE WHOIS_UPDATED_DATE  \\\n",
       "1659            CA             ON  14/12/2009 0:00    13/12/2016 0:00   \n",
       "\n",
       "      DIST_REMOTE_TCP_PORT  REMOTE_IPS  APP_BYTES  SOURCE_APP_BYTES  \\\n",
       "1659                     2           2        276               416   \n",
       "\n",
       "      APP_PACKETS  DNS_QUERY_TIMES  Type  \n",
       "1659            4              NaN     0  "
      ]
     },
     "execution_count": 24,
     "metadata": {},
     "output_type": "execute_result"
    }
   ],
   "source": [
    "websites2[websites2['DNS_QUERY_TIMES'].isnull()==True]"
   ]
  },
  {
   "cell_type": "code",
   "execution_count": 25,
   "metadata": {},
   "outputs": [
    {
     "data": {
      "text/plain": [
       "1781"
      ]
     },
     "execution_count": 25,
     "metadata": {},
     "output_type": "execute_result"
    }
   ],
   "source": [
    "#this is going to output the number of rows that is the same for the column DNS_QUERY_TIMES\n",
    "websites2['SERVER'].shape[0]"
   ]
  },
  {
   "cell_type": "code",
   "execution_count": 26,
   "metadata": {},
   "outputs": [],
   "source": [
    "#drop the rows with missing values\n",
    "websites2 = websites2.drop([1306,1659])"
   ]
  },
  {
   "cell_type": "code",
   "execution_count": 27,
   "metadata": {},
   "outputs": [],
   "source": [
    "# Your comment here\n",
    "#The SERVER column is categorical and removing 1 row in a total of 1781 it doesn't \n",
    "#have a significateve effect in the model we want to create\n",
    "\n",
    "#for the column DNS_QUERY_TIMES removing 1 row in a total of 1781 it doesn't \n",
    "#have a significateve effect in the model we want to create"
   ]
  },
  {
   "cell_type": "markdown",
   "metadata": {},
   "source": [
    "#### Again, examine the number of missing values in each column. \n",
    "\n",
    "If all cleaned, proceed. Otherwise, go back and do more cleaning."
   ]
  },
  {
   "cell_type": "code",
   "execution_count": 28,
   "metadata": {},
   "outputs": [
    {
     "data": {
      "text/plain": [
       "URL                          0\n",
       "URL_LENGTH                   0\n",
       "NUMBER_SPECIAL_CHARACTERS    0\n",
       "CHARSET                      0\n",
       "SERVER                       0\n",
       "WHOIS_COUNTRY                0\n",
       "WHOIS_STATEPRO               0\n",
       "WHOIS_REGDATE                0\n",
       "WHOIS_UPDATED_DATE           0\n",
       "DIST_REMOTE_TCP_PORT         0\n",
       "REMOTE_IPS                   0\n",
       "APP_BYTES                    0\n",
       "SOURCE_APP_BYTES             0\n",
       "APP_PACKETS                  0\n",
       "DNS_QUERY_TIMES              0\n",
       "Type                         0\n",
       "dtype: int64"
      ]
     },
     "execution_count": 28,
     "metadata": {},
     "output_type": "execute_result"
    }
   ],
   "source": [
    "# Examine missing values in each column\n",
    "#check if there is not missing values\n",
    "websites2.isnull().sum()"
   ]
  },
  {
   "cell_type": "markdown",
   "metadata": {},
   "source": [
    "# Challenge 4 - Handle `WHOIS_*` Categorical Data"
   ]
  },
  {
   "cell_type": "markdown",
   "metadata": {},
   "source": [
    "There are several categorical columns we need to handle. These columns are:\n",
    "\n",
    "* `URL`\n",
    "* `CHARSET`\n",
    "* `SERVER`\n",
    "* `WHOIS_COUNTRY`\n",
    "* `WHOIS_STATEPRO`\n",
    "* `WHOIS_REGDATE`\n",
    "* `WHOIS_UPDATED_DATE`\n",
    "\n",
    "How to handle string columns is always case by case. Let's start by working on `WHOIS_COUNTRY`. Your steps are:\n",
    "\n",
    "1. List out the unique values of `WHOIS_COUNTRY`.\n",
    "1. Consolidate the country values with consistent country codes. For example, the following values refer to the same country and should use consistent country code:\n",
    "    * `CY` and `Cyprus`\n",
    "    * `US` and `us`\n",
    "    * `SE` and `se`\n",
    "    * `GB`, `United Kingdom`, and `[u'GB'; u'UK']`\n",
    "\n",
    "#### In the cells below, fix the country values as intructed above."
   ]
  },
  {
   "cell_type": "code",
   "execution_count": 29,
   "metadata": {},
   "outputs": [
    {
     "data": {
      "text/plain": [
       "array(['None', 'US', 'SC', 'GB', 'UK', 'RU', 'AU', 'CA', 'PA', 'se', 'IN',\n",
       "       'LU', 'TH', \"[u'GB'; u'UK']\", 'FR', 'NL', 'UG', 'JP', 'CN', 'SE',\n",
       "       'SI', 'IL', 'ru', 'KY', 'AT', 'CZ', 'PH', 'BE', 'NO', 'TR', 'LV',\n",
       "       'DE', 'ES', 'BR', 'us', 'KR', 'HK', 'UA', 'CH', 'United Kingdom',\n",
       "       'BS', 'PK', 'IT', 'Cyprus', 'BY', 'AE', 'IE', 'UY', 'KG'],\n",
       "      dtype=object)"
      ]
     },
     "execution_count": 29,
     "metadata": {},
     "output_type": "execute_result"
    }
   ],
   "source": [
    "# Your code here\n",
    "\n",
    "#List out the unique values of WHOIS_COUNTRY\n",
    "\n",
    "websites2['WHOIS_COUNTRY'].unique()"
   ]
  },
  {
   "cell_type": "code",
   "execution_count": 30,
   "metadata": {},
   "outputs": [],
   "source": [
    "#replace the values to consolidate the country values with consistent country codes\n",
    "\n",
    "websites2['WHOIS_COUNTRY'].replace(to_replace= ['United Kingdom',\"[u'GB'; u'UK']\"],value = 'GB', inplace = True)\n",
    "\n",
    "websites2['WHOIS_COUNTRY'].replace(to_replace= ['Cyprus','se','ru'],value = ['CY','SE','RU'], inplace = True)"
   ]
  },
  {
   "cell_type": "code",
   "execution_count": 31,
   "metadata": {},
   "outputs": [
    {
     "data": {
      "text/plain": [
       "array(['None', 'US', 'SC', 'GB', 'UK', 'RU', 'AU', 'CA', 'PA', 'SE', 'IN',\n",
       "       'LU', 'TH', 'FR', 'NL', 'UG', 'JP', 'CN', 'SI', 'IL', 'KY', 'AT',\n",
       "       'CZ', 'PH', 'BE', 'NO', 'TR', 'LV', 'DE', 'ES', 'BR', 'us', 'KR',\n",
       "       'HK', 'UA', 'CH', 'BS', 'PK', 'IT', 'CY', 'BY', 'AE', 'IE', 'UY',\n",
       "       'KG'], dtype=object)"
      ]
     },
     "execution_count": 31,
     "metadata": {},
     "output_type": "execute_result"
    }
   ],
   "source": [
    "# check if all the country values have now consistent country codes\n",
    "websites2['WHOIS_COUNTRY'].unique()"
   ]
  },
  {
   "cell_type": "markdown",
   "metadata": {},
   "source": [
    "Since we have fixed the country values, can we convert this column to ordinal now?\n",
    "\n",
    "Not yet. If you reflect on the previous labs how we handle categorical columns, you probably remember we ended up dropping a lot of those columns because there are too many unique values. Too many unique values in a column is not desirable in machine learning because it makes prediction inaccurate. But there are workarounds under certain conditions. One of the fixable conditions is:\n",
    "\n",
    "#### If a limited number of values account for the majority of data, we can retain these top values and re-label all other rare values.\n",
    "\n",
    "The `WHOIS_COUNTRY` column happens to be this case. You can verify it by print a bar chart of the `value_counts` in the next cell to verify:"
   ]
  },
  {
   "cell_type": "code",
   "execution_count": 32,
   "metadata": {},
   "outputs": [
    {
     "name": "stderr",
     "output_type": "stream",
     "text": [
      "C:\\ProgramData\\Anaconda3\\lib\\site-packages\\seaborn\\_decorators.py:36: FutureWarning: Pass the following variables as keyword args: x, y. From version 0.12, the only valid positional argument will be `data`, and passing other arguments without an explicit keyword will result in an error or misinterpretation.\n",
      "  warnings.warn(\n"
     ]
    },
    {
     "data": {
      "image/png": "[encoded data removed]",
      "text/plain": [
       "<Figure size 1296x432 with 1 Axes>"
      ]
     },
     "metadata": {
      "needs_background": "light"
     },
     "output_type": "display_data"
    }
   ],
   "source": [
    "# Your code here\n",
    "city_count = websites2['WHOIS_COUNTRY'].value_counts()\n",
    "\n",
    "plt.figure(figsize=(18,6))\n",
    "sns.barplot(city_count.index, city_count.values, alpha=0.8)\n",
    "\n",
    "#displays the plot\n",
    "plt.show()"
   ]
  },
  {
   "cell_type": "code",
   "execution_count": 33,
   "metadata": {
    "scrolled": true
   },
   "outputs": [
    {
     "name": "stderr",
     "output_type": "stream",
     "text": [
      "C:\\ProgramData\\Anaconda3\\lib\\site-packages\\seaborn\\_decorators.py:36: FutureWarning: Pass the following variables as keyword args: x, y. From version 0.12, the only valid positional argument will be `data`, and passing other arguments without an explicit keyword will result in an error or misinterpretation.\n",
      "  warnings.warn(\n"
     ]
    },
    {
     "data": {
      "image/png": "[encoded data removed]",
      "text/plain": [
       "<Figure size 1296x432 with 1 Axes>"
      ]
     },
     "metadata": {
      "needs_background": "light"
     },
     "output_type": "display_data"
    }
   ],
   "source": [
    "city_count = websites2['WHOIS_COUNTRY'].value_counts()\n",
    "\n",
    "#get only the top 10 values of the column WHOIS_COUNTRY\n",
    "city_count_top10 = city_count[:10]\n",
    "\n",
    "plt.figure(figsize=(18,6))\n",
    "sns.barplot(city_count_top10.index, city_count_top10.values, alpha=0.8)\n",
    "\n",
    "#displays the plot\n",
    "plt.show()"
   ]
  },
  {
   "cell_type": "code",
   "execution_count": 34,
   "metadata": {},
   "outputs": [],
   "source": [
    "# creates a list with the top 10 countrys\n",
    "top10_country_list = list(city_count_top10.index)"
   ]
  },
  {
   "cell_type": "markdown",
   "metadata": {},
   "source": [
    "#### After verifying, now let's keep the top 10 values of the column and re-label the other column values with `OTHER`."
   ]
  },
  {
   "cell_type": "code",
   "execution_count": 35,
   "metadata": {},
   "outputs": [],
   "source": [
    "# Your code here\n",
    "websites2['WHOIS_COUNTRY'] = websites2['WHOIS_COUNTRY'].apply(lambda x: 'OTHER' if x not in top10_country_list else x)"
   ]
  },
  {
   "cell_type": "code",
   "execution_count": 36,
   "metadata": {},
   "outputs": [
    {
     "data": {
      "text/plain": [
       "array(['None', 'US', 'OTHER', 'GB', 'AU', 'CA', 'PA', 'IN', 'JP', 'CN',\n",
       "       'ES'], dtype=object)"
      ]
     },
     "execution_count": 36,
     "metadata": {},
     "output_type": "execute_result"
    }
   ],
   "source": [
    "websites2['WHOIS_COUNTRY'].unique()"
   ]
  },
  {
   "cell_type": "markdown",
   "metadata": {},
   "source": [
    "Now since `WHOIS_COUNTRY` has been re-labelled, we don't need `WHOIS_STATEPRO` any more because the values of the states or provinces may not be relevant any more. We'll drop this column.\n",
    "\n",
    "In addition, we will also drop `WHOIS_REGDATE` and `WHOIS_UPDATED_DATE`. These are the registration and update dates of the website domains. Not of our concerns.\n",
    "\n",
    "#### In the next cell, drop `['WHOIS_STATEPRO', 'WHOIS_REGDATE', 'WHOIS_UPDATED_DATE']`."
   ]
  },
  {
   "cell_type": "code",
   "execution_count": 37,
   "metadata": {},
   "outputs": [],
   "source": [
    "# Your code here\n",
    "col_to_drop = ['WHOIS_STATEPRO', 'WHOIS_REGDATE', 'WHOIS_UPDATED_DATE']\n",
    "\n",
    "websites2.drop(columns = col_to_drop, inplace= True ) "
   ]
  },
  {
   "cell_type": "markdown",
   "metadata": {},
   "source": [
    "# Challenge 5 - Handle Remaining Categorical Data & Convert to Ordinal\n",
    "\n",
    "Now print the `dtypes` of the data again. Besides `WHOIS_COUNTRY` which we already fixed, there should be 3 categorical columns left: `URL`, `CHARSET`, and `SERVER`."
   ]
  },
  {
   "cell_type": "code",
   "execution_count": 38,
   "metadata": {},
   "outputs": [
    {
     "data": {
      "text/plain": [
       "URL                           object\n",
       "URL_LENGTH                     int64\n",
       "NUMBER_SPECIAL_CHARACTERS      int64\n",
       "CHARSET                       object\n",
       "SERVER                        object\n",
       "WHOIS_COUNTRY                 object\n",
       "DIST_REMOTE_TCP_PORT           int64\n",
       "REMOTE_IPS                     int64\n",
       "APP_BYTES                      int64\n",
       "SOURCE_APP_BYTES               int64\n",
       "APP_PACKETS                    int64\n",
       "DNS_QUERY_TIMES              float64\n",
       "Type                           int64\n",
       "dtype: object"
      ]
     },
     "execution_count": 38,
     "metadata": {},
     "output_type": "execute_result"
    }
   ],
   "source": [
    "# Your code here\n",
    "websites2.dtypes"
   ]
  },
  {
   "cell_type": "markdown",
   "metadata": {},
   "source": [
    "#### `URL` is easy. We'll simply drop it because it has too many unique values that there's no way for us to consolidate."
   ]
  },
  {
   "cell_type": "code",
   "execution_count": 39,
   "metadata": {},
   "outputs": [],
   "source": [
    "# Your code here\n",
    "websites2.drop(columns = ['URL'], inplace= True ) "
   ]
  },
  {
   "cell_type": "markdown",
   "metadata": {},
   "source": [
    "#### Print the unique value counts of `CHARSET`. You see there are only a few unique values. So we can keep it as it is."
   ]
  },
  {
   "cell_type": "code",
   "execution_count": 40,
   "metadata": {},
   "outputs": [
    {
     "data": {
      "text/plain": [
       "UTF-8           674\n",
       "ISO-8859-1      427\n",
       "utf-8           379\n",
       "us-ascii        155\n",
       "iso-8859-1      134\n",
       "None              7\n",
       "windows-1251      1\n",
       "windows-1252      1\n",
       "ISO-8859          1\n",
       "Name: CHARSET, dtype: int64"
      ]
     },
     "execution_count": 40,
     "metadata": {},
     "output_type": "execute_result"
    }
   ],
   "source": [
    "# Your code here\n",
    "websites2['CHARSET'].value_counts()"
   ]
  },
  {
   "cell_type": "markdown",
   "metadata": {},
   "source": [
    "`SERVER` is a little more complicated. Print its unique values and think about how you can consolidate those values.\n",
    "\n",
    "#### Don't read the instructions that come next, before you think of your own solution."
   ]
  },
  {
   "cell_type": "code",
   "execution_count": 41,
   "metadata": {},
   "outputs": [
    {
     "data": {
      "text/plain": [
       "Apache                                                                                385\n",
       "nginx                                                                                 211\n",
       "None                                                                                  175\n",
       "Microsoft-HTTPAPI/2.0                                                                 113\n",
       "cloudflare-nginx                                                                       94\n",
       "                                                                                     ... \n",
       "Apache/2.2.22 (Debian) mod_python/3.3.1 Python/2.7.3 mod_ssl/2.2.22 OpenSSL/1.0.1t      1\n",
       "mw2240.codfw.wmnet                                                                      1\n",
       "Apache/2.2.23 (Amazon)                                                                  1\n",
       "nxfps                                                                                   1\n",
       "Apache/2.2.31 (Unix) mod_ssl/2.2.31 OpenSSL/1.0.1e-fips mod_bwlimited/1.4               1\n",
       "Name: SERVER, Length: 239, dtype: int64"
      ]
     },
     "execution_count": 41,
     "metadata": {},
     "output_type": "execute_result"
    }
   ],
   "source": [
    "# Your code here\n",
    "websites2['SERVER'].value_counts()"
   ]
  },
  {
   "cell_type": "code",
   "execution_count": 42,
   "metadata": {},
   "outputs": [
    {
     "data": {
      "text/plain": [
       "0                                                 nginx\n",
       "1                                         Apache/2.4.10\n",
       "2                                 Microsoft-HTTPAPI/2.0\n",
       "3                                                 nginx\n",
       "4                                                  None\n",
       "5                                                 nginx\n",
       "6                                              Apache/2\n",
       "7                                 Microsoft-HTTPAPI/2.0\n",
       "8                                          nginx/1.10.1\n",
       "9                                          nginx/1.10.1\n",
       "10                                               Apache\n",
       "11                                Microsoft-HTTPAPI/2.0\n",
       "12                                                 None\n",
       "13                                                nginx\n",
       "14                              Apache/2.2.15 (Red Hat)\n",
       "15    Apache/2.4.23 (Unix) OpenSSL/1.0.1e-fips mod_b...\n",
       "16                                                nginx\n",
       "17                                Microsoft-HTTPAPI/2.0\n",
       "18                                                nginx\n",
       "19                                Microsoft-HTTPAPI/2.0\n",
       "20                                   openresty/1.11.2.1\n",
       "21                                                nginx\n",
       "22                                        Apache/2.2.22\n",
       "23                                Apache/2.4.7 (Ubuntu)\n",
       "24                                         nginx/1.12.0\n",
       "25                                               Apache\n",
       "26                                         nginx/1.12.0\n",
       "27                                                nginx\n",
       "28                                               Apache\n",
       "29    Apache/2.4.12 (Unix) OpenSSL/1.0.1e-fips mod_b...\n",
       "30                                Microsoft-HTTPAPI/2.0\n",
       "31                                                nginx\n",
       "32                        Oracle-iPlanet-Web-Server/7.0\n",
       "33                                                 None\n",
       "34                                                nginx\n",
       "35                                                 None\n",
       "36                                                 None\n",
       "37                                                 None\n",
       "38                                     cloudflare-nginx\n",
       "39                                         nginx/1.12.0\n",
       "Name: SERVER, dtype: object"
      ]
     },
     "execution_count": 42,
     "metadata": {},
     "output_type": "execute_result"
    }
   ],
   "source": [
    "websites2['SERVER'].head(40)"
   ]
  },
  {
   "cell_type": "markdown",
   "metadata": {},
   "source": [
    "![Think Hard](../images/think-hard.jpg)"
   ]
  },
  {
   "cell_type": "code",
   "execution_count": 43,
   "metadata": {},
   "outputs": [],
   "source": [
    "# Your comment here\n",
    "#Use a regex method to have the main servers that apear more times (nginx,Apache,Microsoft)"
   ]
  },
  {
   "cell_type": "markdown",
   "metadata": {},
   "source": [
    "Although there are so many unique values in the `SERVER` column, there are actually only 3 main server types: `Microsoft`, `Apache`, and `nginx`. Just check if each `SERVER` value contains any of those server types and re-label them. For `SERVER` values that don't contain any of those substrings, label with `Other`.\n",
    "\n",
    "At the end, your `SERVER` column should only contain 4 unique values: `Microsoft`, `Apache`, `nginx`, and `Other`."
   ]
  },
  {
   "cell_type": "code",
   "execution_count": 44,
   "metadata": {},
   "outputs": [
    {
     "data": {
      "text/plain": [
       "array(['nginx', 'nginx/1.10.1', 'nginx/1.12.0', 'cloudflare-nginx',\n",
       "       'nginx/1.6.2', 'nginx/1.8.0',\n",
       "       'nginx/1.10.1 + Phusion Passenger 5.0.30', 'nginx/0.7.65',\n",
       "       'nginx/1.1.19', 'nginx/1.4.3', 'nginx/1.11.3', 'nginx/1.11.2',\n",
       "       'nginx/1.10.0 (Ubuntu)', 'nginx/1.8.1', 'nginx/1.11.10',\n",
       "       'nginx/1.4.6 (Ubuntu)', 'nginx + Phusion Passenger',\n",
       "       'nginx/0.8.54', 'nginx/1.13.0', 'nginx/1.10.3', 'nginx/1.10.2',\n",
       "       'nginx/1.2.1', 'nginx/0.8.35', 'nginx/1.10.0',\n",
       "       'nginx/1.6.3 + Phusion Passenger', 'nginx/1.2.6', 'nginx/1.4.4',\n",
       "       'nginx/1.6.3', 'nginx/1.7.4', 'nginx/0.8.38', 'nginx/1.9.13',\n",
       "       'nginx/0.8.55', 'nginx/1.7.12'], dtype=object)"
      ]
     },
     "execution_count": 44,
     "metadata": {},
     "output_type": "execute_result"
    }
   ],
   "source": [
    "# Your code here\n",
    "#get only the strings that contain the sub string nginx in the column SERVER\n",
    "nginx_df = websites2[websites2['SERVER'].str.contains('nginx',regex = True)]\n",
    "\n",
    "nginx_df['SERVER'].unique()"
   ]
  },
  {
   "cell_type": "code",
   "execution_count": 45,
   "metadata": {
    "scrolled": true
   },
   "outputs": [
    {
     "data": {
      "text/plain": [
       "array(['Other', 'Other', 'Microsoft', ..., 'Other', 'Other', 'Microsoft'],\n",
       "      dtype='<U9')"
      ]
     },
     "execution_count": 45,
     "metadata": {},
     "output_type": "execute_result"
    }
   ],
   "source": [
    "#np.where works in the way that first is the condition then the value if condition = True\n",
    "# and in the end the value if condition = False. \n",
    "#condition : websites['SERVER'].str.contains('Microsoft')\n",
    "#condition = True : Value = 'Microsoft'\n",
    "#condition = False : Value = 'Other'\n",
    "\n",
    "np.where(websites['SERVER'].str.contains('Microsoft'),'Microsoft','Other')\n",
    "                           "
   ]
  },
  {
   "cell_type": "code",
   "execution_count": 46,
   "metadata": {},
   "outputs": [],
   "source": [
    "#Note: the variable websites2['SERVER'] that i'm assigning the numpy array have to be websites2 and not websites \n",
    "# or it will give an error due to the difference of shape between the two dataframes (websites2 and websites)\n",
    "\n",
    "websites2['SERVER'] = np.where(websites2['SERVER'].str.contains('Microsoft'),'Microsoft',\n",
    "                     np.where(websites2['SERVER'].str.contains('Apache'),'Apache', \n",
    "                              np.where(websites2['SERVER'].str.contains('nginx'),'nginx','Other')))"
   ]
  },
  {
   "cell_type": "code",
   "execution_count": 47,
   "metadata": {
    "scrolled": false
   },
   "outputs": [
    {
     "data": {
      "text/plain": [
       "Apache       642\n",
       "Other        504\n",
       "nginx        435\n",
       "Microsoft    198\n",
       "Name: SERVER, dtype: int64"
      ]
     },
     "execution_count": 47,
     "metadata": {},
     "output_type": "execute_result"
    }
   ],
   "source": [
    "# Count `SERVER` value counts here\n",
    "websites2['SERVER'].value_counts()"
   ]
  },
  {
   "cell_type": "markdown",
   "metadata": {},
   "source": [
    "OK, all our categorical data are fixed now. **Let's convert them to ordinal data using Pandas' `get_dummies` function ([documentation](https://pandas.pydata.org/pandas-docs/stable/generated/pandas.get_dummies.html)). Also, assign the data with dummy values to a new variable `website_dummy`.**"
   ]
  },
  {
   "cell_type": "code",
   "execution_count": 48,
   "metadata": {},
   "outputs": [],
   "source": [
    "#the columns that are categorical are of the type object\n",
    "#shows only the name of the columns of the type object\n",
    "categorical_col = websites2.select_dtypes(include=['object']).columns.tolist()"
   ]
  },
  {
   "cell_type": "code",
   "execution_count": 49,
   "metadata": {},
   "outputs": [],
   "source": [
    "# Your code here\n",
    "website_dummy = pd.get_dummies(data = websites2, columns = categorical_col)"
   ]
  },
  {
   "cell_type": "markdown",
   "metadata": {},
   "source": [
    "Now, inspect `website_dummy` to make sure the data and types are intended - there shouldn't be any categorical columns at this point."
   ]
  },
  {
   "cell_type": "code",
   "execution_count": 50,
   "metadata": {},
   "outputs": [
    {
     "data": {
      "text/plain": [
       "URL_LENGTH                     int64\n",
       "NUMBER_SPECIAL_CHARACTERS      int64\n",
       "DIST_REMOTE_TCP_PORT           int64\n",
       "REMOTE_IPS                     int64\n",
       "APP_BYTES                      int64\n",
       "SOURCE_APP_BYTES               int64\n",
       "APP_PACKETS                    int64\n",
       "DNS_QUERY_TIMES              float64\n",
       "Type                           int64\n",
       "CHARSET_ISO-8859               uint8\n",
       "CHARSET_ISO-8859-1             uint8\n",
       "CHARSET_None                   uint8\n",
       "CHARSET_UTF-8                  uint8\n",
       "CHARSET_iso-8859-1             uint8\n",
       "CHARSET_us-ascii               uint8\n",
       "CHARSET_utf-8                  uint8\n",
       "CHARSET_windows-1251           uint8\n",
       "CHARSET_windows-1252           uint8\n",
       "SERVER_Apache                  uint8\n",
       "SERVER_Microsoft               uint8\n",
       "SERVER_Other                   uint8\n",
       "SERVER_nginx                   uint8\n",
       "WHOIS_COUNTRY_AU               uint8\n",
       "WHOIS_COUNTRY_CA               uint8\n",
       "WHOIS_COUNTRY_CN               uint8\n",
       "WHOIS_COUNTRY_ES               uint8\n",
       "WHOIS_COUNTRY_GB               uint8\n",
       "WHOIS_COUNTRY_IN               uint8\n",
       "WHOIS_COUNTRY_JP               uint8\n",
       "WHOIS_COUNTRY_None             uint8\n",
       "WHOIS_COUNTRY_OTHER            uint8\n",
       "WHOIS_COUNTRY_PA               uint8\n",
       "WHOIS_COUNTRY_US               uint8\n",
       "dtype: object"
      ]
     },
     "execution_count": 50,
     "metadata": {},
     "output_type": "execute_result"
    }
   ],
   "source": [
    "# Your code here\n",
    "website_dummy.dtypes"
   ]
  },
  {
   "cell_type": "markdown",
   "metadata": {},
   "source": [
    "# Challenge 6 - Modeling, Prediction, and Evaluation\n",
    "\n",
    "We'll start off this section by splitting the data to train and test. **Name your 4 variables `X_train`, `X_test`, `y_train`, and `y_test`. Select 80% of the data for training and 20% for testing.**"
   ]
  },
  {
   "cell_type": "code",
   "execution_count": 51,
   "metadata": {},
   "outputs": [],
   "source": [
    "from sklearn.model_selection import train_test_split\n",
    "\n",
    "# Your code here:\n",
    "\n",
    "#Spliting the target and the features\n",
    "y = website_dummy['Type']\n",
    "X = website_dummy.drop('Type',axis=1)\n",
    "\n",
    "#splitting the data to train and test, selecting 20% of the data for testing and 80% for training\n",
    "X_train, X_test, y_train, y_test = train_test_split(X,y,test_size=0.20)"
   ]
  },
  {
   "cell_type": "markdown",
   "metadata": {},
   "source": [
    "#### In this lab, we will try two different models and compare our results.\n",
    "\n",
    "The first model we will use in this lab is logistic regression. We have previously learned about logistic regression as a classification algorithm. In the cell below, load `LogisticRegression` from scikit-learn and initialize the model."
   ]
  },
  {
   "cell_type": "code",
   "execution_count": 52,
   "metadata": {},
   "outputs": [],
   "source": [
    "# Your code here:\n",
    "from sklearn.linear_model import LogisticRegression as LR\n",
    "\n"
   ]
  },
  {
   "cell_type": "markdown",
   "metadata": {},
   "source": [
    "Next, fit the model to our training data. We have already separated our data into 4 parts. Use those in your model."
   ]
  },
  {
   "cell_type": "code",
   "execution_count": 53,
   "metadata": {},
   "outputs": [
    {
     "name": "stderr",
     "output_type": "stream",
     "text": [
      "C:\\ProgramData\\Anaconda3\\lib\\site-packages\\sklearn\\linear_model\\_logistic.py:763: ConvergenceWarning: lbfgs failed to converge (status=1):\n",
      "STOP: TOTAL NO. of ITERATIONS REACHED LIMIT.\n",
      "\n",
      "Increase the number of iterations (max_iter) or scale the data as shown in:\n",
      "    https://scikit-learn.org/stable/modules/preprocessing.html\n",
      "Please also refer to the documentation for alternative solver options:\n",
      "    https://scikit-learn.org/stable/modules/linear_model.html#logistic-regression\n",
      "  n_iter_i = _check_optimize_result(\n"
     ]
    }
   ],
   "source": [
    "# Your code here:\n",
    "\n",
    "#fit the LogisticRegression  model to our training data\n",
    "model_LR = LR().fit(X_train,y_train)\n"
   ]
  },
  {
   "cell_type": "markdown",
   "metadata": {},
   "source": [
    "finally, import `confusion_matrix` and `accuracy_score` from `sklearn.metrics` and fit our testing data. Assign the fitted data to `y_pred` and print the confusion matrix as well as the accuracy score"
   ]
  },
  {
   "cell_type": "code",
   "execution_count": 54,
   "metadata": {},
   "outputs": [
    {
     "name": "stdout",
     "output_type": "stream",
     "text": [
      "The confusion matrix  of the model is:\n",
      " [[303  11]\n",
      " [ 29  13]]\n",
      "The accuracy score of the model is 0.8876404494382022\n"
     ]
    }
   ],
   "source": [
    "# Your code here:\n",
    "from sklearn.metrics import confusion_matrix  \n",
    "from sklearn.metrics import accuracy_score\n",
    "\n",
    "# once the algorithm has learned, we can use it to predict on new instances:\n",
    "y_pred = model_LR.predict(X_test)\n",
    "\n",
    "print('The confusion matrix  of the model is:\\n',confusion_matrix(y_test,y_pred))\n",
    "print('The accuracy score of the model is',accuracy_score(y_test,y_pred))"
   ]
  },
  {
   "cell_type": "markdown",
   "metadata": {},
   "source": [
    "![confusion_matrix.png](../images/confusion_matrix.png)"
   ]
  },
  {
   "cell_type": "code",
   "execution_count": 55,
   "metadata": {},
   "outputs": [
    {
     "name": "stdout",
     "output_type": "stream",
     "text": [
      "test data accuracy was  0.8876404494382022\n",
      "train data accuracy was  0.8981026001405481\n"
     ]
    }
   ],
   "source": [
    "#test if there is overfiting is the algorithm is memorizing the training data whet will be a problem because if we introduce\n",
    "#new data it will not predict well\n",
    "\n",
    "# the natural thing to do is to perform an evaluation of how well our model behaves with test data\n",
    "\n",
    "# once the model is trained, i can call the score method, to compare results of test predictions with actual values -> returns the accuracy\n",
    "print(\"test data accuracy was \",model_LR.score(X_test,y_test))\n",
    "\n",
    "# you should always also see the accuracy of the training\n",
    "print(\"train data accuracy was \", model_LR.score(X_train, y_train))\n"
   ]
  },
  {
   "cell_type": "markdown",
   "metadata": {},
   "source": [
    "What are your thoughts on the performance of the model? Write your conclusions below."
   ]
  },
  {
   "cell_type": "code",
   "execution_count": 56,
   "metadata": {},
   "outputs": [],
   "source": [
    "# Your conclusions here:\n",
    "#Since the test data accuracy and train data accuracy are similar, the model is not overfited\n",
    "#The mode have a good accuracy score but we have 27 False negatives what means that 27 of the websites that are malignous\n",
    "# are not detected by the model\n"
   ]
  },
  {
   "cell_type": "markdown",
   "metadata": {},
   "source": [
    "#### Our second algorithm is is K-Nearest Neighbors. \n",
    "\n",
    "Though is it not required, we will fit a model using the training data and then test the performance of the model using the testing data. Start by loading `KNeighborsClassifier` from scikit-learn and then initializing and fitting the model. We'll start off with a model where k=3."
   ]
  },
  {
   "cell_type": "code",
   "execution_count": 74,
   "metadata": {},
   "outputs": [],
   "source": [
    "# Your code here:\n",
    "from sklearn.neighbors import KNeighborsClassifier as KNC\n",
    "\n",
    "# initialize the model -> set hyperparameters\n",
    "model_KNC = KNC(n_neighbors=3)\n",
    "\n",
    "#fit the KNeighborsClassifier  model to our training data\n",
    "model_KNC = model_KNC.fit(X_train,y_train)"
   ]
  },
  {
   "cell_type": "markdown",
   "metadata": {},
   "source": [
    "To test your model, compute the predicted values for the testing sample and print the confusion matrix as well as the accuracy score."
   ]
  },
  {
   "cell_type": "code",
   "execution_count": 75,
   "metadata": {},
   "outputs": [
    {
     "name": "stdout",
     "output_type": "stream",
     "text": [
      "The confusion matrix  of the model is:\n",
      " [[302  12]\n",
      " [ 13  29]]\n",
      "The accuracy score of the model is 0.9297752808988764\n"
     ]
    }
   ],
   "source": [
    "# Your code here:\n",
    "# once the algorithm has learned, we can use it to predict on new instances:\n",
    "y_pred = model_KNC.predict(X_test)\n",
    "\n",
    "print('The confusion matrix  of the model is:\\n',confusion_matrix(y_test,y_pred))\n",
    "print('The accuracy score of the model is',accuracy_score(y_test,y_pred))\n"
   ]
  },
  {
   "cell_type": "markdown",
   "metadata": {},
   "source": [
    "#### We'll create another K-Nearest Neighbors model with k=5. \n",
    "\n",
    "Initialize and fit the model below and print the confusion matrix and the accuracy score."
   ]
  },
  {
   "cell_type": "code",
   "execution_count": 76,
   "metadata": {},
   "outputs": [
    {
     "name": "stdout",
     "output_type": "stream",
     "text": [
      "The confusion matrix  of the model is:\n",
      " [[301  13]\n",
      " [ 13  29]]\n",
      "The accuracy score of the model is 0.9269662921348315\n"
     ]
    }
   ],
   "source": [
    "# Your code here:\n",
    "# initialize the model -> set hyperparameters\n",
    "model_KNC = KNC(n_neighbors=5)\n",
    "\n",
    "#fit the KNeighborsClassifier  model to our training data\n",
    "model_KNC = model_KNC.fit(X_train,y_train)\n",
    "\n",
    "# once the algorithm has learned, we can use it to predict on new instances:\n",
    "y_pred = model_KNC.predict(X_test)\n",
    "\n",
    "print('The confusion matrix  of the model is:\\n',confusion_matrix(y_test,y_pred))\n",
    "print('The accuracy score of the model is',accuracy_score(y_test,y_pred))"
   ]
  },
  {
   "cell_type": "markdown",
   "metadata": {},
   "source": [
    "Did you see an improvement in the confusion matrix when increasing k to 5? Did you see an improvement in the accuracy score? Write your conclusions below."
   ]
  },
  {
   "cell_type": "code",
   "execution_count": 60,
   "metadata": {},
   "outputs": [],
   "source": [
    "# Your conclusions here:\n",
    "# The increase in the k form 3 to 5 lead to a decrease in the accuracy and looking at the confusion matrix for k= 5\n",
    "#the true positives have on less value and the False postives have one more value\n"
   ]
  },
  {
   "cell_type": "markdown",
   "metadata": {},
   "source": [
    "# Bonus Challenge - Feature Scaling\n",
    "\n",
    "Problem-solving in machine learning is iterative. You can improve your model prediction with various techniques (there is a sweetspot for the time you spend and the improvement you receive though). Now you've completed only one iteration of ML analysis. There are more iterations you can conduct to make improvements. In order to be able to do that, you will need deeper knowledge in statistics and master more data analysis techniques. In this bootcamp, we don't have time to achieve that advanced goal. But you will make constant efforts after the bootcamp to eventually get there.\n",
    "\n",
    "However, now we do want you to learn one of the advanced techniques which is called *feature scaling*. The idea of feature scaling is to standardize/normalize the range of independent variables or features of the data. This can make the outliers more apparent so that you can remove them. This step needs to happen during Challenge 6 after you split the training and test data because you don't want to split the data again which makes it impossible to compare your results with and without feature scaling. For general concepts about feature scaling, click [here](https://en.wikipedia.org/wiki/Feature_scaling). To read deeper, click [here](https://medium.com/greyatom/why-how-and-when-to-scale-your-features-4b30ab09db5e).\n",
    "\n",
    "In the next cell, attempt to improve your model prediction accuracy by means of feature scaling. A library you can utilize is `sklearn.preprocessing.RobustScaler` ([documentation](https://scikit-learn.org/stable/modules/generated/sklearn.preprocessing.RobustScaler.html)). You'll use the `RobustScaler` to fit and transform your `X_train`, then transform `X_test`. You will use logistic regression to fit and predict your transformed data and obtain the accuracy score in the same way. Compare the accuracy score with your normalized data with the previous accuracy data. Is there an improvement?"
   ]
  },
  {
   "cell_type": "code",
   "execution_count": 61,
   "metadata": {},
   "outputs": [],
   "source": [
    "# Your code here"
   ]
  }
 ],
 "metadata": {
  "kernelspec": {
   "display_name": "Python 3",
   "language": "python",
   "name": "python3"
  },
  "language_info": {
   "codemirror_mode": {
    "name": "ipython",
    "version": 3
   },
   "file_extension": ".py",
   "mimetype": "text/x-python",
   "name": "python",
   "nbconvert_exporter": "python",
   "pygments_lexer": "ipython3",
   "version": "3.8.5"
  }
 },
 "nbformat": 4,
 "nbformat_minor": 2
}
